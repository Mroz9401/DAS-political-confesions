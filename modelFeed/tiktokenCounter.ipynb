{
 "cells": [
  {
   "cell_type": "code",
   "execution_count": 4,
   "id": "4de96f64",
   "metadata": {},
   "outputs": [],
   "source": [
    "import tiktoken\n",
    "import json"
   ]
  },
  {
   "cell_type": "code",
   "execution_count": 2,
   "id": "a9f59deb",
   "metadata": {},
   "outputs": [],
   "source": [
    "encoding = tiktoken.encoding_for_model(\"gpt-3.5-turbo\")"
   ]
  },
  {
   "cell_type": "code",
   "execution_count": 25,
   "id": "d98dc79f",
   "metadata": {},
   "outputs": [],
   "source": [
    "with open(\"outputJSONL.jsonl\", 'r') as file:\n",
    "    data = list(file)\n",
    "sum = 0\n",
    "for json_str in data:\n",
    "    result = json.loads(json_str)\n",
    "    sum += len(encoding.encode(result['messages'][1]['content']))"
   ]
  },
  {
   "cell_type": "code",
   "execution_count": 26,
   "id": "e8bb84fc",
   "metadata": {},
   "outputs": [
    {
     "name": "stdout",
     "output_type": "stream",
     "text": [
      "11252\n"
     ]
    }
   ],
   "source": [
    "print(sum)"
   ]
  },
  {
   "cell_type": "code",
   "execution_count": null,
   "id": "23b2aab9",
   "metadata": {},
   "outputs": [],
   "source": []
  }
 ],
 "metadata": {
  "kernelspec": {
   "display_name": "Python 3 (ipykernel)",
   "language": "python",
   "name": "python3"
  },
  "language_info": {
   "codemirror_mode": {
    "name": "ipython",
    "version": 3
   },
   "file_extension": ".py",
   "mimetype": "text/x-python",
   "name": "python",
   "nbconvert_exporter": "python",
   "pygments_lexer": "ipython3",
   "version": "3.11.5"
  }
 },
 "nbformat": 4,
 "nbformat_minor": 5
}
