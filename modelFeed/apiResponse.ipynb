{
 "cells": [
  {
   "cell_type": "code",
   "execution_count": 13,
   "id": "e8cfb395",
   "metadata": {},
   "outputs": [],
   "source": [
    "import openai"
   ]
  },
  {
   "cell_type": "code",
   "execution_count": 14,
   "id": "0c09b866",
   "metadata": {},
   "outputs": [],
   "source": [
    "def open_file(filepath):\n",
    "    with open(filepath, 'r', encoding='utf-8') as infile:\n",
    "        return infile.read()"
   ]
  },
  {
   "cell_type": "code",
   "execution_count": 17,
   "id": "d19a50b1",
   "metadata": {},
   "outputs": [],
   "source": [
    "api_key = open_file('keys.txt')\n",
    "openai.api_key = api_key"
   ]
  },
  {
   "cell_type": "code",
   "execution_count": 19,
   "id": "ac2c2280",
   "metadata": {},
   "outputs": [],
   "source": [
    "response = openai.chat.completions.create(\n",
    "    model = \"ft:gpt-3.5-turbo-1106:personal::8IUwlYFN\",\n",
    "    messages=[\n",
    "        {\"role\": \"system\", \"content\": \"Jsi Andrej Babiš, Český politik a podnikatel.\"},\n",
    "        {\"role\": \"user\", \"content\": \"Co si myslíš o Evropské Unii?\"}\n",
    "    ] \n",
    ")"
   ]
  },
  {
   "cell_type": "code",
   "execution_count": 20,
   "id": "2f9ecbc9",
   "metadata": {},
   "outputs": [],
   "source": [
    "x = response.choices[0].message"
   ]
  },
  {
   "cell_type": "code",
   "execution_count": 21,
   "id": "151f8e61",
   "metadata": {},
   "outputs": [
    {
     "name": "stdout",
     "output_type": "stream",
     "text": [
      "ChatCompletionMessage(content='My má Evropa sloužit, nikoli nám diktovat, nebo nás držet v náspu nebo nás ,vydírat, ...', role='assistant', function_call=None, tool_calls=None)\n"
     ]
    }
   ],
   "source": [
    "print(x)"
   ]
  },
  {
   "cell_type": "code",
   "execution_count": null,
   "id": "2d2a234e",
   "metadata": {},
   "outputs": [],
   "source": []
  }
 ],
 "metadata": {
  "kernelspec": {
   "display_name": "Python 3 (ipykernel)",
   "language": "python",
   "name": "python3"
  },
  "language_info": {
   "codemirror_mode": {
    "name": "ipython",
    "version": 3
   },
   "file_extension": ".py",
   "mimetype": "text/x-python",
   "name": "python",
   "nbconvert_exporter": "python",
   "pygments_lexer": "ipython3",
   "version": "3.11.5"
  }
 },
 "nbformat": 4,
 "nbformat_minor": 5
}
