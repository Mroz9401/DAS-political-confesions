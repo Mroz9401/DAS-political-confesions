{
 "cells": [
  {
   "cell_type": "code",
   "execution_count": 66,
   "id": "1fca34f4-d8a9-4a36-81f0-a4db00a7d2c4",
   "metadata": {},
   "outputs": [],
   "source": [
    "import requests\n",
    "from bs4 import BeautifulSoup\n",
    "import copy\n",
    "import yaml\n",
    "import os\n",
    "import re\n",
    "import pandas as pd\n",
    "\n",
    "#function for scraping webpage demagog.cz for politicians quotes-> right now it is set to Andrej Babis\n",
    "#politician = \"Andrej Babiš\"\n",
    "URL_demagog = 'https://demagog.cz/politici/andrej-babis-183'\n",
    "filename = \"./data/demagog_Babis.yaml\"\n"
   ]
  },
  {
   "cell_type": "code",
   "execution_count": 67,
   "id": "5953404a-9ca3-4b69-9289-21d3ad973a07",
   "metadata": {},
   "outputs": [],
   "source": [
    "\n",
    "def get_url_data(URL, politician):\n",
    "    \n",
    "    data = []\n",
    "\n",
    "    page = requests.get(URL)\n",
    "    if page.status_code != 200:\n",
    "        raise ValueError(f\"Failed to fetch the webpage. HTTP Status Code: {page.status_code}\")\n",
    "    html_content = page.text\n",
    "    soup = BeautifulSoup(html_content, \"html.parser\")\n",
    "\n",
    "    class_pattern = re.compile(r\"fs-5 text-uppercase fs-600 text-(\\w+)\")\n",
    "\n",
    "    \n",
    "    quotes_all = soup.find_all('span', class_ = \"fs-6 position-relative\")\n",
    "    truths_all = soup.find_all('div', class_ = \"content fs-6\")\n",
    "    states_all = soup.find_all(attrs={\"class\": class_pattern})\n",
    "    \n",
    "    '''\n",
    "    print(len(quotes_all))\n",
    "    print(len(states_all))\n",
    "    print(len(truths_all))\n",
    "    \n",
    "    for i in range(10):\n",
    "        print(quotes[i].string + \", \" + states[i].string + \", \" + truths[i].string + \"\\n\")\n",
    "    '''\n",
    "\n",
    "    if(len(quotes_all) != len(truths_all) != len(states_all)):\n",
    "        raise ValueError(\"Data lengths on URL: \" + URL + \" are not equal and do not correspond to each other!\")\n",
    "    \n",
    "    for idx in range(len(quotes_all)):\n",
    "        quote_current = quotes_all[idx].text\n",
    "        quote_current = quote_current.replace('\\xa0', ' ').replace('\\n',' ').strip()\n",
    "        #print(quote_current)\n",
    "\n",
    "        state_current = states_all[idx].string\n",
    "        state_current = state_current.strip().replace('\\n',' ').strip()\n",
    "        #print(state_current)\n",
    "        truth_current = truths_all[idx].string\n",
    "        truth_current = truth_current.replace('\\xa0', ' ').replace('\\n',' ').strip()\n",
    "        #print(truth_current)\n",
    "\n",
    "        data_current = {\"name\": politician, \"quote\": quote_current, \"state\": state_current, \"truth\": truth_current}\n",
    "        data.append(data_current)\n",
    "    \n",
    "    \n",
    "    return data\n"
   ]
  },
  {
   "cell_type": "code",
   "execution_count": 68,
   "id": "03af60c0-3b42-440b-8a1e-6106ffe3503f",
   "metadata": {},
   "outputs": [],
   "source": [
    "def url_cycle(URL, politician, filename):\n",
    "\n",
    "    data_all = get_url_data(URL_demagog,\"Andrej Babiš\")\n",
    "    \n",
    "    for idx in range(10):\n",
    "        i = idx + 2\n",
    "        m = idx + 1\n",
    "        URL_current = URL + \"?page=\" + str(i)\n",
    "        #print(URL_current)\n",
    "        data_current = get_url_data(URL_current, politician)\n",
    "        data_all.append(data_current)\n",
    "        print(\"The \" + str(m) + \". URL(\" + URL_current + \") has been scraped.\") \n",
    "\n",
    "    with open(filename, \"w\", encoding=\"utf-8\") as file:\n",
    "        yaml.dump(data_all, file, default_flow_style=False)\n",
    "    \n",
    "    #df = pd.DataFrame(data_all)\n",
    "    #df.to_csv(filename, index=False)\n",
    "\n",
    "    print(\"All data saved to file: \" + filename + \". \")\n",
    "\n",
    "    return \n",
    "\n",
    "\n",
    "\n",
    "\n"
   ]
  },
  {
   "cell_type": "code",
   "execution_count": 70,
   "id": "0ca02499-d485-4971-beaa-bf8868587e6a",
   "metadata": {},
   "outputs": [
    {
     "name": "stdout",
     "output_type": "stream",
     "text": [
      "The 1. URL(https://demagog.cz/politici/andrej-babis-183?page=2) has been scraped.\n",
      "The 2. URL(https://demagog.cz/politici/andrej-babis-183?page=3) has been scraped.\n",
      "The 3. URL(https://demagog.cz/politici/andrej-babis-183?page=4) has been scraped.\n",
      "The 4. URL(https://demagog.cz/politici/andrej-babis-183?page=5) has been scraped.\n",
      "The 5. URL(https://demagog.cz/politici/andrej-babis-183?page=6) has been scraped.\n",
      "The 6. URL(https://demagog.cz/politici/andrej-babis-183?page=7) has been scraped.\n",
      "The 7. URL(https://demagog.cz/politici/andrej-babis-183?page=8) has been scraped.\n",
      "The 8. URL(https://demagog.cz/politici/andrej-babis-183?page=9) has been scraped.\n",
      "The 9. URL(https://demagog.cz/politici/andrej-babis-183?page=10) has been scraped.\n",
      "The 10. URL(https://demagog.cz/politici/andrej-babis-183?page=11) has been scraped.\n",
      "All data saved to file: ./data/demagog_Babis.yaml. \n"
     ]
    }
   ],
   "source": [
    "url_cycle(URL_demagog, \"Andrej Babiš\", filename)\n",
    "#print(get_url_data(URL_demagog,\"Andrej Babiš\"))"
   ]
  },
  {
   "cell_type": "code",
   "execution_count": null,
   "id": "53ee6510-2a10-4db4-8624-a3a9ac35dc59",
   "metadata": {},
   "outputs": [],
   "source": []
  }
 ],
 "metadata": {
  "kernelspec": {
   "display_name": "Python 3 (ipykernel)",
   "language": "python",
   "name": "python3"
  },
  "language_info": {
   "codemirror_mode": {
    "name": "ipython",
    "version": 3
   },
   "file_extension": ".py",
   "mimetype": "text/x-python",
   "name": "python",
   "nbconvert_exporter": "python",
   "pygments_lexer": "ipython3",
   "version": "3.10.12"
  }
 },
 "nbformat": 4,
 "nbformat_minor": 5
}
