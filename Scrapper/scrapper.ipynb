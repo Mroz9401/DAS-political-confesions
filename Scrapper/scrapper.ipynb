{
 "cells": [
  {
   "cell_type": "code",
   "execution_count": 1,
   "id": "e8437c0e-d1d3-4977-9625-14d169ee4861",
   "metadata": {},
   "outputs": [],
   "source": [
    "import requests\n",
    "from bs4 import BeautifulSoup\n",
    "\n",
    "# URL = 'https://www.hlidacstatu.cz/data/Hledat/stenozaznamy-psp/'  # Replace with the target URL\n",
    "URL = 'https://www.psp.cz/eknih/2021ps/stenprot/index.htm'  # Replace with the target URL"
   ]
  },
  {
   "cell_type": "code",
   "execution_count": 57,
   "id": "707fceee-d566-41cc-9e2d-e6589a1e731d",
   "metadata": {},
   "outputs": [],
   "source": [
    "# Required Libraries\n",
    "\n",
    "# Constants\n",
    "\n",
    "def fetch_website_content(url):\n",
    "    \"\"\"\n",
    "    Fetches the content of the website at the given URL.\n",
    "    \n",
    "    Args:\n",
    "        url (str): The target URL to fetch.\n",
    "    \n",
    "    Returns:\n",
    "        str: The raw content of the webpage.\n",
    "    \"\"\"\n",
    "    response = requests.get(url)\n",
    "    \n",
    "    # Check if the request was successful\n",
    "    if response.status_code != 200:\n",
    "        raise ValueError(f\"Failed to fetch the webpage. HTTP Status Code: {response.status_code}\")\n",
    "\n",
    "    html_content = response.text\n",
    "    soup = BeautifulSoup(html_content, 'html.parser')\n",
    "    return soup\n",
    "\n",
    "def extract_html_of_a_with_href(soup):\n",
    "    \"\"\"\n",
    "    Parses the required data from the given HTML content.\n",
    "    \n",
    "    Args:\n",
    "        html_content (str): The raw HTML content.\n",
    "    \n",
    "    Returns:\n",
    "        list: A list of data extracted from the content.\n",
    "    \"\"\"\n",
    "    # Modify this section to extract the specific data you need\n",
    "    # For instance, to extract all the text inside paragraph tags:\n",
    "    data = [(a.get_text(), a['href']) for a in soup.find_all('a', href=True)]\n",
    "    return data\n",
    "\n",
    "def extract_html_of_div_with_id(soup, target_id):\n",
    "    \"\"\"\n",
    "    Extracts the inner HTML content of a div with the given ID from the provided HTML content.\n",
    "    \n",
    "    Args:\n",
    "        html_content (str): The raw HTML content.\n",
    "        target_id (str): The ID of the div whose content needs to be extracted.\n",
    "    \n",
    "    Returns:\n",
    "        str: The inner HTML content of the div, or None if the div isn't found.\n",
    "    \"\"\"\n",
    "    # Find the div with the given ID\n",
    "    div = soup.find('div', id=target_id)\n",
    "    \n",
    "    # Return its inner HTML if found\n",
    "    return div if div else None\n",
    "\n",
    "def extract_content_of_p_with_align(html_content, target_align):\n",
    "    \"\"\"\n",
    "    Extracts the content of all <p> tags with the specified align attribute.\n",
    "    \n",
    "    Args:\n",
    "        html_content (str): The raw HTML content.\n",
    "        target_align (str): The align attribute value to look for.\n",
    "    \n",
    "    Returns:\n",
    "        list: A list of content extracted from the <p> tags.\n",
    "    \"\"\"\n",
    "    # Find all <p> tags with the specified align attribute\n",
    "    p_tags = html_content.find_all('p', align=target_align)\n",
    "    \n",
    "    # Extract and return the content of these tags\n",
    "    return [p.get_text() for p in p_tags]\n"
   ]
  },
  {
   "cell_type": "code",
   "execution_count": 61,
   "id": "7d5794bb-6efd-48c4-8803-5575a8a85f1d",
   "metadata": {},
   "outputs": [],
   "source": [
    "def get_all_schuze_links(URL):\n",
    "    url_data = {}\n",
    "    soup = fetch_website_content(URL)\n",
    "    body_content = extract_html_of_div_with_id(soup, \"body\")\n",
    "    hrefs = extract_html_of_a_with_href(body_content)\n",
    "    links = [link for link in hrefs if \"schuz\" in link[1] and \"index\" in link[1]]\n",
    "    for link in links:\n",
    "        url_data[link[0]] = {\"url\": URL.split(\"/index\")[0] + \"/\" + link[1]}\n",
    "\n",
    "    return url_data\n",
    "\n",
    "def get_all_schuze_content(URL, URL_schuze):\n",
    "    soup = fetch_website_content(URL_schuze)\n",
    "    body_content = extract_html_of_div_with_id(soup, \"main-content\")\n",
    "    hrefs = extract_html_of_a_with_href(body_content)\n",
    "    links = [link[1] for link in hrefs_schuze if \"-\" in link[1]]\n",
    "    all_url_schuze = [URL.split(\"/index\")[0] + \"/\" + link_schuze for link_schuze in links_schuze]\n",
    "\n",
    "    return all_url_schuze\n",
    "\n",
    "def get_all_speakers(URL_schuze, URL_zaznam):\n",
    "    url_data = []\n",
    "    soup = fetch_website_content(URL_zaznam)\n",
    "    body_content = extract_html_of_div_with_id(soup_zaznam, \"body\")\n",
    "    hrefs = extract_html_of_a_with_href(body_content)\n",
    "    links = [link for link in hrefs if \"#r\" in link[1]]\n",
    "    for link in links:\n",
    "        url_data.append((link[0], URL_schuze.split(\"/index\")[0] + \"/\" + link[1]))\n",
    "\n",
    "    return url_data"
   ]
  },
  {
   "cell_type": "code",
   "execution_count": 64,
   "id": "dc5d1cce-15e2-41aa-99fa-6a86afc6d650",
   "metadata": {},
   "outputs": [],
   "source": [
    "def get_all_links(URL):\n",
    "    all_links = {}\n",
    "    \n",
    "    schuze_all = get_all_schuze_links(URL)\n",
    "    for name_schuze in list(schuze_all.keys()):\n",
    "        URL_schuze = schuze_all[name_schuze][\"url\"]\n",
    "        schuze_all[name_schuze][\"rec\"] = get_all_schuze_content(URL, URL_schuze)\n",
    "        schuze_all[name_schuze][\"speak\"] = []\n",
    "        for URL_zaznam in all_url_schuze_parts[0:1]:\n",
    "            schuze_all[name_schuze][\"speak\"] += get_all_speakers(URL_schuze, URL_zaznam)\n",
    "            \n",
    "    return all_links"
   ]
  },
  {
   "cell_type": "code",
   "execution_count": 40,
   "id": "8299e764-f490-40c6-9041-a27caa7457f7",
   "metadata": {},
   "outputs": [],
   "source": [
    "def get_all_data(schuze_all):\n",
    "    all_data = {}\n",
    "    for name_schuze in list(schuze_all.keys()):\n",
    "        all_data[name_schuze] = {}\n",
    "        for link in schuze_all[name_schuze][\"speak\"]:\n",
    "            all_data[name_schuze][link[0]] = []\n",
    "            try:\n",
    "                soup = fetch_website_content(link[1])\n",
    "                body_content = extract_html_of_div_with_id(soup, \"main-content\")\n",
    "                p_tags = extract_content_of_p_with_align(body_content, \"justify\")\n",
    "                \n",
    "                all_data[name_schuze][link[0]] += p_tags\n",
    "            except:\n",
    "                print(\"Couldnt get data from: \", url)\n",
    "    return all_data"
   ]
  },
  {
   "cell_type": "code",
   "execution_count": 63,
   "id": "c47a3ca4-577a-4ac0-87a5-454a6be82c0c",
   "metadata": {},
   "outputs": [
    {
     "ename": "ConnectionError",
     "evalue": "('Connection aborted.', RemoteDisconnected('Remote end closed connection without response'))",
     "output_type": "error",
     "traceback": [
      "\u001b[1;31m---------------------------------------------------------------------------\u001b[0m",
      "\u001b[1;31mRemoteDisconnected\u001b[0m                        Traceback (most recent call last)",
      "File \u001b[1;32m~\\FJFI\\DAS-Political_confessions\\env_llm\\lib\\site-packages\\urllib3\\connectionpool.py:790\u001b[0m, in \u001b[0;36mHTTPConnectionPool.urlopen\u001b[1;34m(self, method, url, body, headers, retries, redirect, assert_same_host, timeout, pool_timeout, release_conn, chunked, body_pos, preload_content, decode_content, **response_kw)\u001b[0m\n\u001b[0;32m    789\u001b[0m \u001b[38;5;66;03m# Make the request on the HTTPConnection object\u001b[39;00m\n\u001b[1;32m--> 790\u001b[0m response \u001b[38;5;241m=\u001b[39m \u001b[38;5;28mself\u001b[39m\u001b[38;5;241m.\u001b[39m_make_request(\n\u001b[0;32m    791\u001b[0m     conn,\n\u001b[0;32m    792\u001b[0m     method,\n\u001b[0;32m    793\u001b[0m     url,\n\u001b[0;32m    794\u001b[0m     timeout\u001b[38;5;241m=\u001b[39mtimeout_obj,\n\u001b[0;32m    795\u001b[0m     body\u001b[38;5;241m=\u001b[39mbody,\n\u001b[0;32m    796\u001b[0m     headers\u001b[38;5;241m=\u001b[39mheaders,\n\u001b[0;32m    797\u001b[0m     chunked\u001b[38;5;241m=\u001b[39mchunked,\n\u001b[0;32m    798\u001b[0m     retries\u001b[38;5;241m=\u001b[39mretries,\n\u001b[0;32m    799\u001b[0m     response_conn\u001b[38;5;241m=\u001b[39mresponse_conn,\n\u001b[0;32m    800\u001b[0m     preload_content\u001b[38;5;241m=\u001b[39mpreload_content,\n\u001b[0;32m    801\u001b[0m     decode_content\u001b[38;5;241m=\u001b[39mdecode_content,\n\u001b[0;32m    802\u001b[0m     \u001b[38;5;241m*\u001b[39m\u001b[38;5;241m*\u001b[39mresponse_kw,\n\u001b[0;32m    803\u001b[0m )\n\u001b[0;32m    805\u001b[0m \u001b[38;5;66;03m# Everything went great!\u001b[39;00m\n",
      "File \u001b[1;32m~\\FJFI\\DAS-Political_confessions\\env_llm\\lib\\site-packages\\urllib3\\connectionpool.py:536\u001b[0m, in \u001b[0;36mHTTPConnectionPool._make_request\u001b[1;34m(self, conn, method, url, body, headers, retries, timeout, chunked, response_conn, preload_content, decode_content, enforce_content_length)\u001b[0m\n\u001b[0;32m    535\u001b[0m \u001b[38;5;28;01mtry\u001b[39;00m:\n\u001b[1;32m--> 536\u001b[0m     response \u001b[38;5;241m=\u001b[39m \u001b[43mconn\u001b[49m\u001b[38;5;241;43m.\u001b[39;49m\u001b[43mgetresponse\u001b[49m\u001b[43m(\u001b[49m\u001b[43m)\u001b[49m\n\u001b[0;32m    537\u001b[0m \u001b[38;5;28;01mexcept\u001b[39;00m (BaseSSLError, \u001b[38;5;167;01mOSError\u001b[39;00m) \u001b[38;5;28;01mas\u001b[39;00m e:\n",
      "File \u001b[1;32m~\\FJFI\\DAS-Political_confessions\\env_llm\\lib\\site-packages\\urllib3\\connection.py:461\u001b[0m, in \u001b[0;36mHTTPConnection.getresponse\u001b[1;34m(self)\u001b[0m\n\u001b[0;32m    460\u001b[0m \u001b[38;5;66;03m# Get the response from http.client.HTTPConnection\u001b[39;00m\n\u001b[1;32m--> 461\u001b[0m httplib_response \u001b[38;5;241m=\u001b[39m \u001b[38;5;28;43msuper\u001b[39;49m\u001b[43m(\u001b[49m\u001b[43m)\u001b[49m\u001b[38;5;241;43m.\u001b[39;49m\u001b[43mgetresponse\u001b[49m\u001b[43m(\u001b[49m\u001b[43m)\u001b[49m\n\u001b[0;32m    463\u001b[0m \u001b[38;5;28;01mtry\u001b[39;00m:\n",
      "File \u001b[1;32m~\\AppData\\Local\\Programs\\Python\\Python310\\lib\\http\\client.py:1375\u001b[0m, in \u001b[0;36mHTTPConnection.getresponse\u001b[1;34m(self)\u001b[0m\n\u001b[0;32m   1374\u001b[0m \u001b[38;5;28;01mtry\u001b[39;00m:\n\u001b[1;32m-> 1375\u001b[0m     \u001b[43mresponse\u001b[49m\u001b[38;5;241;43m.\u001b[39;49m\u001b[43mbegin\u001b[49m\u001b[43m(\u001b[49m\u001b[43m)\u001b[49m\n\u001b[0;32m   1376\u001b[0m \u001b[38;5;28;01mexcept\u001b[39;00m \u001b[38;5;167;01mConnectionError\u001b[39;00m:\n",
      "File \u001b[1;32m~\\AppData\\Local\\Programs\\Python\\Python310\\lib\\http\\client.py:318\u001b[0m, in \u001b[0;36mHTTPResponse.begin\u001b[1;34m(self)\u001b[0m\n\u001b[0;32m    317\u001b[0m \u001b[38;5;28;01mwhile\u001b[39;00m \u001b[38;5;28;01mTrue\u001b[39;00m:\n\u001b[1;32m--> 318\u001b[0m     version, status, reason \u001b[38;5;241m=\u001b[39m \u001b[38;5;28;43mself\u001b[39;49m\u001b[38;5;241;43m.\u001b[39;49m\u001b[43m_read_status\u001b[49m\u001b[43m(\u001b[49m\u001b[43m)\u001b[49m\n\u001b[0;32m    319\u001b[0m     \u001b[38;5;28;01mif\u001b[39;00m status \u001b[38;5;241m!=\u001b[39m CONTINUE:\n",
      "File \u001b[1;32m~\\AppData\\Local\\Programs\\Python\\Python310\\lib\\http\\client.py:287\u001b[0m, in \u001b[0;36mHTTPResponse._read_status\u001b[1;34m(self)\u001b[0m\n\u001b[0;32m    284\u001b[0m \u001b[38;5;28;01mif\u001b[39;00m \u001b[38;5;129;01mnot\u001b[39;00m line:\n\u001b[0;32m    285\u001b[0m     \u001b[38;5;66;03m# Presumably, the server closed the connection before\u001b[39;00m\n\u001b[0;32m    286\u001b[0m     \u001b[38;5;66;03m# sending a valid response.\u001b[39;00m\n\u001b[1;32m--> 287\u001b[0m     \u001b[38;5;28;01mraise\u001b[39;00m RemoteDisconnected(\u001b[38;5;124m\"\u001b[39m\u001b[38;5;124mRemote end closed connection without\u001b[39m\u001b[38;5;124m\"\u001b[39m\n\u001b[0;32m    288\u001b[0m                              \u001b[38;5;124m\"\u001b[39m\u001b[38;5;124m response\u001b[39m\u001b[38;5;124m\"\u001b[39m)\n\u001b[0;32m    289\u001b[0m \u001b[38;5;28;01mtry\u001b[39;00m:\n",
      "\u001b[1;31mRemoteDisconnected\u001b[0m: Remote end closed connection without response",
      "\nDuring handling of the above exception, another exception occurred:\n",
      "\u001b[1;31mProtocolError\u001b[0m                             Traceback (most recent call last)",
      "File \u001b[1;32m~\\FJFI\\DAS-Political_confessions\\env_llm\\lib\\site-packages\\requests\\adapters.py:486\u001b[0m, in \u001b[0;36mHTTPAdapter.send\u001b[1;34m(self, request, stream, timeout, verify, cert, proxies)\u001b[0m\n\u001b[0;32m    485\u001b[0m \u001b[38;5;28;01mtry\u001b[39;00m:\n\u001b[1;32m--> 486\u001b[0m     resp \u001b[38;5;241m=\u001b[39m \u001b[43mconn\u001b[49m\u001b[38;5;241;43m.\u001b[39;49m\u001b[43murlopen\u001b[49m\u001b[43m(\u001b[49m\n\u001b[0;32m    487\u001b[0m \u001b[43m        \u001b[49m\u001b[43mmethod\u001b[49m\u001b[38;5;241;43m=\u001b[39;49m\u001b[43mrequest\u001b[49m\u001b[38;5;241;43m.\u001b[39;49m\u001b[43mmethod\u001b[49m\u001b[43m,\u001b[49m\n\u001b[0;32m    488\u001b[0m \u001b[43m        \u001b[49m\u001b[43murl\u001b[49m\u001b[38;5;241;43m=\u001b[39;49m\u001b[43murl\u001b[49m\u001b[43m,\u001b[49m\n\u001b[0;32m    489\u001b[0m \u001b[43m        \u001b[49m\u001b[43mbody\u001b[49m\u001b[38;5;241;43m=\u001b[39;49m\u001b[43mrequest\u001b[49m\u001b[38;5;241;43m.\u001b[39;49m\u001b[43mbody\u001b[49m\u001b[43m,\u001b[49m\n\u001b[0;32m    490\u001b[0m \u001b[43m        \u001b[49m\u001b[43mheaders\u001b[49m\u001b[38;5;241;43m=\u001b[39;49m\u001b[43mrequest\u001b[49m\u001b[38;5;241;43m.\u001b[39;49m\u001b[43mheaders\u001b[49m\u001b[43m,\u001b[49m\n\u001b[0;32m    491\u001b[0m \u001b[43m        \u001b[49m\u001b[43mredirect\u001b[49m\u001b[38;5;241;43m=\u001b[39;49m\u001b[38;5;28;43;01mFalse\u001b[39;49;00m\u001b[43m,\u001b[49m\n\u001b[0;32m    492\u001b[0m \u001b[43m        \u001b[49m\u001b[43massert_same_host\u001b[49m\u001b[38;5;241;43m=\u001b[39;49m\u001b[38;5;28;43;01mFalse\u001b[39;49;00m\u001b[43m,\u001b[49m\n\u001b[0;32m    493\u001b[0m \u001b[43m        \u001b[49m\u001b[43mpreload_content\u001b[49m\u001b[38;5;241;43m=\u001b[39;49m\u001b[38;5;28;43;01mFalse\u001b[39;49;00m\u001b[43m,\u001b[49m\n\u001b[0;32m    494\u001b[0m \u001b[43m        \u001b[49m\u001b[43mdecode_content\u001b[49m\u001b[38;5;241;43m=\u001b[39;49m\u001b[38;5;28;43;01mFalse\u001b[39;49;00m\u001b[43m,\u001b[49m\n\u001b[0;32m    495\u001b[0m \u001b[43m        \u001b[49m\u001b[43mretries\u001b[49m\u001b[38;5;241;43m=\u001b[39;49m\u001b[38;5;28;43mself\u001b[39;49m\u001b[38;5;241;43m.\u001b[39;49m\u001b[43mmax_retries\u001b[49m\u001b[43m,\u001b[49m\n\u001b[0;32m    496\u001b[0m \u001b[43m        \u001b[49m\u001b[43mtimeout\u001b[49m\u001b[38;5;241;43m=\u001b[39;49m\u001b[43mtimeout\u001b[49m\u001b[43m,\u001b[49m\n\u001b[0;32m    497\u001b[0m \u001b[43m        \u001b[49m\u001b[43mchunked\u001b[49m\u001b[38;5;241;43m=\u001b[39;49m\u001b[43mchunked\u001b[49m\u001b[43m,\u001b[49m\n\u001b[0;32m    498\u001b[0m \u001b[43m    \u001b[49m\u001b[43m)\u001b[49m\n\u001b[0;32m    500\u001b[0m \u001b[38;5;28;01mexcept\u001b[39;00m (ProtocolError, \u001b[38;5;167;01mOSError\u001b[39;00m) \u001b[38;5;28;01mas\u001b[39;00m err:\n",
      "File \u001b[1;32m~\\FJFI\\DAS-Political_confessions\\env_llm\\lib\\site-packages\\urllib3\\connectionpool.py:844\u001b[0m, in \u001b[0;36mHTTPConnectionPool.urlopen\u001b[1;34m(self, method, url, body, headers, retries, redirect, assert_same_host, timeout, pool_timeout, release_conn, chunked, body_pos, preload_content, decode_content, **response_kw)\u001b[0m\n\u001b[0;32m    842\u001b[0m     new_e \u001b[38;5;241m=\u001b[39m ProtocolError(\u001b[38;5;124m\"\u001b[39m\u001b[38;5;124mConnection aborted.\u001b[39m\u001b[38;5;124m\"\u001b[39m, new_e)\n\u001b[1;32m--> 844\u001b[0m retries \u001b[38;5;241m=\u001b[39m \u001b[43mretries\u001b[49m\u001b[38;5;241;43m.\u001b[39;49m\u001b[43mincrement\u001b[49m\u001b[43m(\u001b[49m\n\u001b[0;32m    845\u001b[0m \u001b[43m    \u001b[49m\u001b[43mmethod\u001b[49m\u001b[43m,\u001b[49m\u001b[43m \u001b[49m\u001b[43murl\u001b[49m\u001b[43m,\u001b[49m\u001b[43m \u001b[49m\u001b[43merror\u001b[49m\u001b[38;5;241;43m=\u001b[39;49m\u001b[43mnew_e\u001b[49m\u001b[43m,\u001b[49m\u001b[43m \u001b[49m\u001b[43m_pool\u001b[49m\u001b[38;5;241;43m=\u001b[39;49m\u001b[38;5;28;43mself\u001b[39;49m\u001b[43m,\u001b[49m\u001b[43m \u001b[49m\u001b[43m_stacktrace\u001b[49m\u001b[38;5;241;43m=\u001b[39;49m\u001b[43msys\u001b[49m\u001b[38;5;241;43m.\u001b[39;49m\u001b[43mexc_info\u001b[49m\u001b[43m(\u001b[49m\u001b[43m)\u001b[49m\u001b[43m[\u001b[49m\u001b[38;5;241;43m2\u001b[39;49m\u001b[43m]\u001b[49m\n\u001b[0;32m    846\u001b[0m \u001b[43m\u001b[49m\u001b[43m)\u001b[49m\n\u001b[0;32m    847\u001b[0m retries\u001b[38;5;241m.\u001b[39msleep()\n",
      "File \u001b[1;32m~\\FJFI\\DAS-Political_confessions\\env_llm\\lib\\site-packages\\urllib3\\util\\retry.py:470\u001b[0m, in \u001b[0;36mRetry.increment\u001b[1;34m(self, method, url, response, error, _pool, _stacktrace)\u001b[0m\n\u001b[0;32m    469\u001b[0m \u001b[38;5;28;01mif\u001b[39;00m read \u001b[38;5;129;01mis\u001b[39;00m \u001b[38;5;28;01mFalse\u001b[39;00m \u001b[38;5;129;01mor\u001b[39;00m method \u001b[38;5;129;01mis\u001b[39;00m \u001b[38;5;28;01mNone\u001b[39;00m \u001b[38;5;129;01mor\u001b[39;00m \u001b[38;5;129;01mnot\u001b[39;00m \u001b[38;5;28mself\u001b[39m\u001b[38;5;241m.\u001b[39m_is_method_retryable(method):\n\u001b[1;32m--> 470\u001b[0m     \u001b[38;5;28;01mraise\u001b[39;00m \u001b[43mreraise\u001b[49m\u001b[43m(\u001b[49m\u001b[38;5;28;43mtype\u001b[39;49m\u001b[43m(\u001b[49m\u001b[43merror\u001b[49m\u001b[43m)\u001b[49m\u001b[43m,\u001b[49m\u001b[43m \u001b[49m\u001b[43merror\u001b[49m\u001b[43m,\u001b[49m\u001b[43m \u001b[49m\u001b[43m_stacktrace\u001b[49m\u001b[43m)\u001b[49m\n\u001b[0;32m    471\u001b[0m \u001b[38;5;28;01melif\u001b[39;00m read \u001b[38;5;129;01mis\u001b[39;00m \u001b[38;5;129;01mnot\u001b[39;00m \u001b[38;5;28;01mNone\u001b[39;00m:\n",
      "File \u001b[1;32m~\\FJFI\\DAS-Political_confessions\\env_llm\\lib\\site-packages\\urllib3\\util\\util.py:38\u001b[0m, in \u001b[0;36mreraise\u001b[1;34m(tp, value, tb)\u001b[0m\n\u001b[0;32m     37\u001b[0m \u001b[38;5;28;01mif\u001b[39;00m value\u001b[38;5;241m.\u001b[39m__traceback__ \u001b[38;5;129;01mis\u001b[39;00m \u001b[38;5;129;01mnot\u001b[39;00m tb:\n\u001b[1;32m---> 38\u001b[0m     \u001b[38;5;28;01mraise\u001b[39;00m value\u001b[38;5;241m.\u001b[39mwith_traceback(tb)\n\u001b[0;32m     39\u001b[0m \u001b[38;5;28;01mraise\u001b[39;00m value\n",
      "File \u001b[1;32m~\\FJFI\\DAS-Political_confessions\\env_llm\\lib\\site-packages\\urllib3\\connectionpool.py:790\u001b[0m, in \u001b[0;36mHTTPConnectionPool.urlopen\u001b[1;34m(self, method, url, body, headers, retries, redirect, assert_same_host, timeout, pool_timeout, release_conn, chunked, body_pos, preload_content, decode_content, **response_kw)\u001b[0m\n\u001b[0;32m    789\u001b[0m \u001b[38;5;66;03m# Make the request on the HTTPConnection object\u001b[39;00m\n\u001b[1;32m--> 790\u001b[0m response \u001b[38;5;241m=\u001b[39m \u001b[38;5;28mself\u001b[39m\u001b[38;5;241m.\u001b[39m_make_request(\n\u001b[0;32m    791\u001b[0m     conn,\n\u001b[0;32m    792\u001b[0m     method,\n\u001b[0;32m    793\u001b[0m     url,\n\u001b[0;32m    794\u001b[0m     timeout\u001b[38;5;241m=\u001b[39mtimeout_obj,\n\u001b[0;32m    795\u001b[0m     body\u001b[38;5;241m=\u001b[39mbody,\n\u001b[0;32m    796\u001b[0m     headers\u001b[38;5;241m=\u001b[39mheaders,\n\u001b[0;32m    797\u001b[0m     chunked\u001b[38;5;241m=\u001b[39mchunked,\n\u001b[0;32m    798\u001b[0m     retries\u001b[38;5;241m=\u001b[39mretries,\n\u001b[0;32m    799\u001b[0m     response_conn\u001b[38;5;241m=\u001b[39mresponse_conn,\n\u001b[0;32m    800\u001b[0m     preload_content\u001b[38;5;241m=\u001b[39mpreload_content,\n\u001b[0;32m    801\u001b[0m     decode_content\u001b[38;5;241m=\u001b[39mdecode_content,\n\u001b[0;32m    802\u001b[0m     \u001b[38;5;241m*\u001b[39m\u001b[38;5;241m*\u001b[39mresponse_kw,\n\u001b[0;32m    803\u001b[0m )\n\u001b[0;32m    805\u001b[0m \u001b[38;5;66;03m# Everything went great!\u001b[39;00m\n",
      "File \u001b[1;32m~\\FJFI\\DAS-Political_confessions\\env_llm\\lib\\site-packages\\urllib3\\connectionpool.py:536\u001b[0m, in \u001b[0;36mHTTPConnectionPool._make_request\u001b[1;34m(self, conn, method, url, body, headers, retries, timeout, chunked, response_conn, preload_content, decode_content, enforce_content_length)\u001b[0m\n\u001b[0;32m    535\u001b[0m \u001b[38;5;28;01mtry\u001b[39;00m:\n\u001b[1;32m--> 536\u001b[0m     response \u001b[38;5;241m=\u001b[39m \u001b[43mconn\u001b[49m\u001b[38;5;241;43m.\u001b[39;49m\u001b[43mgetresponse\u001b[49m\u001b[43m(\u001b[49m\u001b[43m)\u001b[49m\n\u001b[0;32m    537\u001b[0m \u001b[38;5;28;01mexcept\u001b[39;00m (BaseSSLError, \u001b[38;5;167;01mOSError\u001b[39;00m) \u001b[38;5;28;01mas\u001b[39;00m e:\n",
      "File \u001b[1;32m~\\FJFI\\DAS-Political_confessions\\env_llm\\lib\\site-packages\\urllib3\\connection.py:461\u001b[0m, in \u001b[0;36mHTTPConnection.getresponse\u001b[1;34m(self)\u001b[0m\n\u001b[0;32m    460\u001b[0m \u001b[38;5;66;03m# Get the response from http.client.HTTPConnection\u001b[39;00m\n\u001b[1;32m--> 461\u001b[0m httplib_response \u001b[38;5;241m=\u001b[39m \u001b[38;5;28;43msuper\u001b[39;49m\u001b[43m(\u001b[49m\u001b[43m)\u001b[49m\u001b[38;5;241;43m.\u001b[39;49m\u001b[43mgetresponse\u001b[49m\u001b[43m(\u001b[49m\u001b[43m)\u001b[49m\n\u001b[0;32m    463\u001b[0m \u001b[38;5;28;01mtry\u001b[39;00m:\n",
      "File \u001b[1;32m~\\AppData\\Local\\Programs\\Python\\Python310\\lib\\http\\client.py:1375\u001b[0m, in \u001b[0;36mHTTPConnection.getresponse\u001b[1;34m(self)\u001b[0m\n\u001b[0;32m   1374\u001b[0m \u001b[38;5;28;01mtry\u001b[39;00m:\n\u001b[1;32m-> 1375\u001b[0m     \u001b[43mresponse\u001b[49m\u001b[38;5;241;43m.\u001b[39;49m\u001b[43mbegin\u001b[49m\u001b[43m(\u001b[49m\u001b[43m)\u001b[49m\n\u001b[0;32m   1376\u001b[0m \u001b[38;5;28;01mexcept\u001b[39;00m \u001b[38;5;167;01mConnectionError\u001b[39;00m:\n",
      "File \u001b[1;32m~\\AppData\\Local\\Programs\\Python\\Python310\\lib\\http\\client.py:318\u001b[0m, in \u001b[0;36mHTTPResponse.begin\u001b[1;34m(self)\u001b[0m\n\u001b[0;32m    317\u001b[0m \u001b[38;5;28;01mwhile\u001b[39;00m \u001b[38;5;28;01mTrue\u001b[39;00m:\n\u001b[1;32m--> 318\u001b[0m     version, status, reason \u001b[38;5;241m=\u001b[39m \u001b[38;5;28;43mself\u001b[39;49m\u001b[38;5;241;43m.\u001b[39;49m\u001b[43m_read_status\u001b[49m\u001b[43m(\u001b[49m\u001b[43m)\u001b[49m\n\u001b[0;32m    319\u001b[0m     \u001b[38;5;28;01mif\u001b[39;00m status \u001b[38;5;241m!=\u001b[39m CONTINUE:\n",
      "File \u001b[1;32m~\\AppData\\Local\\Programs\\Python\\Python310\\lib\\http\\client.py:287\u001b[0m, in \u001b[0;36mHTTPResponse._read_status\u001b[1;34m(self)\u001b[0m\n\u001b[0;32m    284\u001b[0m \u001b[38;5;28;01mif\u001b[39;00m \u001b[38;5;129;01mnot\u001b[39;00m line:\n\u001b[0;32m    285\u001b[0m     \u001b[38;5;66;03m# Presumably, the server closed the connection before\u001b[39;00m\n\u001b[0;32m    286\u001b[0m     \u001b[38;5;66;03m# sending a valid response.\u001b[39;00m\n\u001b[1;32m--> 287\u001b[0m     \u001b[38;5;28;01mraise\u001b[39;00m RemoteDisconnected(\u001b[38;5;124m\"\u001b[39m\u001b[38;5;124mRemote end closed connection without\u001b[39m\u001b[38;5;124m\"\u001b[39m\n\u001b[0;32m    288\u001b[0m                              \u001b[38;5;124m\"\u001b[39m\u001b[38;5;124m response\u001b[39m\u001b[38;5;124m\"\u001b[39m)\n\u001b[0;32m    289\u001b[0m \u001b[38;5;28;01mtry\u001b[39;00m:\n",
      "\u001b[1;31mProtocolError\u001b[0m: ('Connection aborted.', RemoteDisconnected('Remote end closed connection without response'))",
      "\nDuring handling of the above exception, another exception occurred:\n",
      "\u001b[1;31mConnectionError\u001b[0m                           Traceback (most recent call last)",
      "Cell \u001b[1;32mIn[63], line 1\u001b[0m\n\u001b[1;32m----> 1\u001b[0m all_links \u001b[38;5;241m=\u001b[39m \u001b[43mget_all_links\u001b[49m\u001b[43m(\u001b[49m\u001b[43mURL\u001b[49m\u001b[43m)\u001b[49m\n\u001b[0;32m      2\u001b[0m all_data \u001b[38;5;241m=\u001b[39m get_all_data(all_links)\n",
      "Cell \u001b[1;32mIn[43], line 7\u001b[0m, in \u001b[0;36mget_all_links\u001b[1;34m(URL)\u001b[0m\n\u001b[0;32m      5\u001b[0m \u001b[38;5;28;01mfor\u001b[39;00m name_schuze \u001b[38;5;129;01min\u001b[39;00m \u001b[38;5;28mlist\u001b[39m(schuze_all\u001b[38;5;241m.\u001b[39mkeys()):\n\u001b[0;32m      6\u001b[0m     URL_schuze \u001b[38;5;241m=\u001b[39m schuze_all[name_schuze][\u001b[38;5;124m\"\u001b[39m\u001b[38;5;124murl\u001b[39m\u001b[38;5;124m\"\u001b[39m]\n\u001b[1;32m----> 7\u001b[0m     schuze_all[name_schuze][\u001b[38;5;124m\"\u001b[39m\u001b[38;5;124mrec\u001b[39m\u001b[38;5;124m\"\u001b[39m] \u001b[38;5;241m=\u001b[39m \u001b[43mget_all_schuze_content\u001b[49m\u001b[43m(\u001b[49m\u001b[43mURL\u001b[49m\u001b[43m,\u001b[49m\u001b[43m \u001b[49m\u001b[43mURL_schuze\u001b[49m\u001b[43m)\u001b[49m\n\u001b[0;32m      8\u001b[0m     schuze_all[name_schuze][\u001b[38;5;124m\"\u001b[39m\u001b[38;5;124mspeak\u001b[39m\u001b[38;5;124m\"\u001b[39m] \u001b[38;5;241m=\u001b[39m []\n\u001b[0;32m      9\u001b[0m     \u001b[38;5;28;01mfor\u001b[39;00m URL_zaznam \u001b[38;5;129;01min\u001b[39;00m all_url_schuze_parts[\u001b[38;5;241m0\u001b[39m:\u001b[38;5;241m2\u001b[39m]:\n",
      "Cell \u001b[1;32mIn[61], line 13\u001b[0m, in \u001b[0;36mget_all_schuze_content\u001b[1;34m(URL, URL_schuze)\u001b[0m\n\u001b[0;32m     12\u001b[0m \u001b[38;5;28;01mdef\u001b[39;00m \u001b[38;5;21mget_all_schuze_content\u001b[39m(URL, URL_schuze):\n\u001b[1;32m---> 13\u001b[0m     soup \u001b[38;5;241m=\u001b[39m \u001b[43mfetch_website_content\u001b[49m\u001b[43m(\u001b[49m\u001b[43mURL_schuze\u001b[49m\u001b[43m)\u001b[49m\n\u001b[0;32m     14\u001b[0m     body_content \u001b[38;5;241m=\u001b[39m extract_html_of_div_with_id(soup, \u001b[38;5;124m\"\u001b[39m\u001b[38;5;124mmain-content\u001b[39m\u001b[38;5;124m\"\u001b[39m)\n\u001b[0;32m     15\u001b[0m     hrefs \u001b[38;5;241m=\u001b[39m extract_html_of_a_with_href(body_content)\n",
      "Cell \u001b[1;32mIn[57], line 15\u001b[0m, in \u001b[0;36mfetch_website_content\u001b[1;34m(url)\u001b[0m\n\u001b[0;32m      5\u001b[0m \u001b[38;5;28;01mdef\u001b[39;00m \u001b[38;5;21mfetch_website_content\u001b[39m(url):\n\u001b[0;32m      6\u001b[0m \u001b[38;5;250m    \u001b[39m\u001b[38;5;124;03m\"\"\"\u001b[39;00m\n\u001b[0;32m      7\u001b[0m \u001b[38;5;124;03m    Fetches the content of the website at the given URL.\u001b[39;00m\n\u001b[0;32m      8\u001b[0m \u001b[38;5;124;03m    \u001b[39;00m\n\u001b[1;32m   (...)\u001b[0m\n\u001b[0;32m     13\u001b[0m \u001b[38;5;124;03m        str: The raw content of the webpage.\u001b[39;00m\n\u001b[0;32m     14\u001b[0m \u001b[38;5;124;03m    \"\"\"\u001b[39;00m\n\u001b[1;32m---> 15\u001b[0m     response \u001b[38;5;241m=\u001b[39m \u001b[43mrequests\u001b[49m\u001b[38;5;241;43m.\u001b[39;49m\u001b[43mget\u001b[49m\u001b[43m(\u001b[49m\u001b[43murl\u001b[49m\u001b[43m)\u001b[49m\n\u001b[0;32m     17\u001b[0m     \u001b[38;5;66;03m# Check if the request was successful\u001b[39;00m\n\u001b[0;32m     18\u001b[0m     \u001b[38;5;28;01mif\u001b[39;00m response\u001b[38;5;241m.\u001b[39mstatus_code \u001b[38;5;241m!=\u001b[39m \u001b[38;5;241m200\u001b[39m:\n",
      "File \u001b[1;32m~\\FJFI\\DAS-Political_confessions\\env_llm\\lib\\site-packages\\requests\\api.py:73\u001b[0m, in \u001b[0;36mget\u001b[1;34m(url, params, **kwargs)\u001b[0m\n\u001b[0;32m     62\u001b[0m \u001b[38;5;28;01mdef\u001b[39;00m \u001b[38;5;21mget\u001b[39m(url, params\u001b[38;5;241m=\u001b[39m\u001b[38;5;28;01mNone\u001b[39;00m, \u001b[38;5;241m*\u001b[39m\u001b[38;5;241m*\u001b[39mkwargs):\n\u001b[0;32m     63\u001b[0m \u001b[38;5;250m    \u001b[39m\u001b[38;5;124mr\u001b[39m\u001b[38;5;124;03m\"\"\"Sends a GET request.\u001b[39;00m\n\u001b[0;32m     64\u001b[0m \n\u001b[0;32m     65\u001b[0m \u001b[38;5;124;03m    :param url: URL for the new :class:`Request` object.\u001b[39;00m\n\u001b[1;32m   (...)\u001b[0m\n\u001b[0;32m     70\u001b[0m \u001b[38;5;124;03m    :rtype: requests.Response\u001b[39;00m\n\u001b[0;32m     71\u001b[0m \u001b[38;5;124;03m    \"\"\"\u001b[39;00m\n\u001b[1;32m---> 73\u001b[0m     \u001b[38;5;28;01mreturn\u001b[39;00m request(\u001b[38;5;124m\"\u001b[39m\u001b[38;5;124mget\u001b[39m\u001b[38;5;124m\"\u001b[39m, url, params\u001b[38;5;241m=\u001b[39mparams, \u001b[38;5;241m*\u001b[39m\u001b[38;5;241m*\u001b[39mkwargs)\n",
      "File \u001b[1;32m~\\FJFI\\DAS-Political_confessions\\env_llm\\lib\\site-packages\\requests\\api.py:59\u001b[0m, in \u001b[0;36mrequest\u001b[1;34m(method, url, **kwargs)\u001b[0m\n\u001b[0;32m     55\u001b[0m \u001b[38;5;66;03m# By using the 'with' statement we are sure the session is closed, thus we\u001b[39;00m\n\u001b[0;32m     56\u001b[0m \u001b[38;5;66;03m# avoid leaving sockets open which can trigger a ResourceWarning in some\u001b[39;00m\n\u001b[0;32m     57\u001b[0m \u001b[38;5;66;03m# cases, and look like a memory leak in others.\u001b[39;00m\n\u001b[0;32m     58\u001b[0m \u001b[38;5;28;01mwith\u001b[39;00m sessions\u001b[38;5;241m.\u001b[39mSession() \u001b[38;5;28;01mas\u001b[39;00m session:\n\u001b[1;32m---> 59\u001b[0m     \u001b[38;5;28;01mreturn\u001b[39;00m session\u001b[38;5;241m.\u001b[39mrequest(method\u001b[38;5;241m=\u001b[39mmethod, url\u001b[38;5;241m=\u001b[39murl, \u001b[38;5;241m*\u001b[39m\u001b[38;5;241m*\u001b[39mkwargs)\n",
      "File \u001b[1;32m~\\FJFI\\DAS-Political_confessions\\env_llm\\lib\\site-packages\\requests\\sessions.py:589\u001b[0m, in \u001b[0;36mSession.request\u001b[1;34m(self, method, url, params, data, headers, cookies, files, auth, timeout, allow_redirects, proxies, hooks, stream, verify, cert, json)\u001b[0m\n\u001b[0;32m    584\u001b[0m send_kwargs \u001b[38;5;241m=\u001b[39m {\n\u001b[0;32m    585\u001b[0m     \u001b[38;5;124m\"\u001b[39m\u001b[38;5;124mtimeout\u001b[39m\u001b[38;5;124m\"\u001b[39m: timeout,\n\u001b[0;32m    586\u001b[0m     \u001b[38;5;124m\"\u001b[39m\u001b[38;5;124mallow_redirects\u001b[39m\u001b[38;5;124m\"\u001b[39m: allow_redirects,\n\u001b[0;32m    587\u001b[0m }\n\u001b[0;32m    588\u001b[0m send_kwargs\u001b[38;5;241m.\u001b[39mupdate(settings)\n\u001b[1;32m--> 589\u001b[0m resp \u001b[38;5;241m=\u001b[39m \u001b[38;5;28mself\u001b[39m\u001b[38;5;241m.\u001b[39msend(prep, \u001b[38;5;241m*\u001b[39m\u001b[38;5;241m*\u001b[39msend_kwargs)\n\u001b[0;32m    591\u001b[0m \u001b[38;5;28;01mreturn\u001b[39;00m resp\n",
      "File \u001b[1;32m~\\FJFI\\DAS-Political_confessions\\env_llm\\lib\\site-packages\\requests\\sessions.py:703\u001b[0m, in \u001b[0;36mSession.send\u001b[1;34m(self, request, **kwargs)\u001b[0m\n\u001b[0;32m    700\u001b[0m start \u001b[38;5;241m=\u001b[39m preferred_clock()\n\u001b[0;32m    702\u001b[0m \u001b[38;5;66;03m# Send the request\u001b[39;00m\n\u001b[1;32m--> 703\u001b[0m r \u001b[38;5;241m=\u001b[39m adapter\u001b[38;5;241m.\u001b[39msend(request, \u001b[38;5;241m*\u001b[39m\u001b[38;5;241m*\u001b[39mkwargs)\n\u001b[0;32m    705\u001b[0m \u001b[38;5;66;03m# Total elapsed time of the request (approximately)\u001b[39;00m\n\u001b[0;32m    706\u001b[0m elapsed \u001b[38;5;241m=\u001b[39m preferred_clock() \u001b[38;5;241m-\u001b[39m start\n",
      "File \u001b[1;32m~\\FJFI\\DAS-Political_confessions\\env_llm\\lib\\site-packages\\requests\\adapters.py:501\u001b[0m, in \u001b[0;36mHTTPAdapter.send\u001b[1;34m(self, request, stream, timeout, verify, cert, proxies)\u001b[0m\n\u001b[0;32m    486\u001b[0m     resp \u001b[38;5;241m=\u001b[39m conn\u001b[38;5;241m.\u001b[39murlopen(\n\u001b[0;32m    487\u001b[0m         method\u001b[38;5;241m=\u001b[39mrequest\u001b[38;5;241m.\u001b[39mmethod,\n\u001b[0;32m    488\u001b[0m         url\u001b[38;5;241m=\u001b[39murl,\n\u001b[1;32m   (...)\u001b[0m\n\u001b[0;32m    497\u001b[0m         chunked\u001b[38;5;241m=\u001b[39mchunked,\n\u001b[0;32m    498\u001b[0m     )\n\u001b[0;32m    500\u001b[0m \u001b[38;5;28;01mexcept\u001b[39;00m (ProtocolError, \u001b[38;5;167;01mOSError\u001b[39;00m) \u001b[38;5;28;01mas\u001b[39;00m err:\n\u001b[1;32m--> 501\u001b[0m     \u001b[38;5;28;01mraise\u001b[39;00m \u001b[38;5;167;01mConnectionError\u001b[39;00m(err, request\u001b[38;5;241m=\u001b[39mrequest)\n\u001b[0;32m    503\u001b[0m \u001b[38;5;28;01mexcept\u001b[39;00m MaxRetryError \u001b[38;5;28;01mas\u001b[39;00m e:\n\u001b[0;32m    504\u001b[0m     \u001b[38;5;28;01mif\u001b[39;00m \u001b[38;5;28misinstance\u001b[39m(e\u001b[38;5;241m.\u001b[39mreason, ConnectTimeoutError):\n\u001b[0;32m    505\u001b[0m         \u001b[38;5;66;03m# TODO: Remove this in 3.0.0: see #2811\u001b[39;00m\n",
      "\u001b[1;31mConnectionError\u001b[0m: ('Connection aborted.', RemoteDisconnected('Remote end closed connection without response'))"
     ]
    }
   ],
   "source": [
    "all_links = get_all_links(URL)\n",
    "all_data = get_all_data(all_links)"
   ]
  },
  {
   "cell_type": "code",
   "execution_count": 53,
   "id": "d86280ea-3300-4079-9f76-4537fdfddc50",
   "metadata": {},
   "outputs": [
    {
     "name": "stdout",
     "output_type": "stream",
     "text": [
      "{}\n"
     ]
    }
   ],
   "source": [
    "print(schuze_all)"
   ]
  },
  {
   "cell_type": "code",
   "execution_count": 58,
   "id": "0c8568a2-dcf2-4313-b85d-f5bb36fe2ec9",
   "metadata": {},
   "outputs": [
    {
     "name": "stdout",
     "output_type": "stream",
     "text": [
      "[('1. schůze', '001schuz/index.htm'), ('8.', '001schuz/1-1.html'), ('10.\\xa0listopadu\\xa02021', '001schuz/1-2.html'), ('2. schůze', '002schuz/index.htm'), ('23.', '002schuz/2-1.html'), ('26.\\xa0listopadu\\xa02021', '002schuz/2-2.html'), ('3. schůze', '003schuz/index.htm'), ('1.\\xa0prosince\\xa02021', '003schuz/3-1.html'), ('4. schůze', '004schuz/index.htm'), ('14.\\xa0prosince\\xa02021', '004schuz/4-1.html'), ('5. schůze', '005schuz/index.htm'), ('15.\\xa0prosince\\xa02021', '005schuz/5-1.html'), ('6. schůze', '006schuz/index.htm'), ('11.', '006schuz/6-1.html'), ('12.', '006schuz/6-2.html'), ('13.', '006schuz/6-3.html'), ('14.', '006schuz/6-4.html'), ('25.', '006schuz/6-5.html'), ('26.', '006schuz/6-6.html'), ('27.', '006schuz/6-7.html'), ('28.\\xa0ledna\\xa02022', '006schuz/6-8.html'), ('7. schůze', '007schuz/index.htm'), ('13.\\xa0ledna\\xa02022', '007schuz/7-1.html'), ('8. schůze', '008schuz/index.htm'), ('1.', '008schuz/8-1.html'), ('2.\\xa0února\\xa02022', '008schuz/8-2.html'), ('9. schůze', '009schuz/index.htm'), ('15.', '009schuz/9-1.html'), ('16.', '009schuz/9-2.html'), ('18.\\xa0února', '009schuz/9-3.html'), ('2.', '009schuz/9-4.html'), ('3.', '009schuz/9-5.html'), ('4.\\xa0března\\xa02022', '009schuz/9-6.html'), ('10. schůze', '010schuz/index.htm'), ('17.\\xa0února\\xa02022', '010schuz/10-1.html'), ('11. schůze', '011schuz/index.htm'), ('18.\\xa0února\\xa02022', '011schuz/11-1.html'), ('12. schůze', '012schuz/index.htm'), ('22.\\xa0února\\xa02022', '012schuz/12-1.html'), ('13. schůze', '013schuz/index.htm'), ('24.\\xa0února\\xa02022', '013schuz/13-1.html'), ('14. schůze', '014schuz/index.htm'), ('10.\\xa0března\\xa02022', '014schuz/14-1.html'), ('15. schůze', '015schuz/index.htm'), ('11.\\xa0března\\xa02022', '015schuz/15-1.html'), ('16. schůze', '016schuz/index.htm'), ('22.', '016schuz/16-1.html'), ('23.', '016schuz/16-2.html'), ('24.', '016schuz/16-3.html'), ('25.\\xa0března', '016schuz/16-4.html'), ('5.', '016schuz/16-5.html'), ('6.', '016schuz/16-6.html'), ('8.\\xa0dubna\\xa02022', '016schuz/16-7.html'), ('17. schůze', '017schuz/index.htm'), ('29.\\xa0března\\xa02022', '017schuz/17-1.html'), ('18. schůze', '018schuz/index.htm'), ('7.\\xa0dubna\\xa02022', '018schuz/18-1.html'), ('19. schůze', '019schuz/index.htm'), ('26.', '019schuz/19-1.html'), ('27.', '019schuz/19-2.html'), ('28.', '019schuz/19-3.html'), ('29.\\xa0dubna', '019schuz/19-4.html'), ('10.', '019schuz/19-5.html'), ('11.', '019schuz/19-6.html'), ('12.', '019schuz/19-7.html'), ('13.\\xa0května\\xa02022', '019schuz/19-8.html'), ('20. schůze', '020schuz/index.htm'), ('3.', '020schuz/20-1.html'), ('4.\\xa0května\\xa02022', '020schuz/20-2.html'), ('21. schůze', '021schuz/index.htm'), ('5.\\xa0května\\xa02022', '021schuz/21-1.html'), ('22. schůze', '022schuz/index.htm'), ('4.\\xa0května\\xa02022', '022schuz/22-1.html'), ('23. schůze', '023schuz/index.htm'), ('12.\\xa0května\\xa02022', '023schuz/23-1.html'), ('24. schůze', '024schuz/index.htm'), ('19.\\xa0května\\xa02022', '024schuz/24-1.html'), ('25. schůze', '025schuz/index.htm'), ('31.\\xa0května', '025schuz/25-1.html'), ('1.', '025schuz/25-2.html'), ('2.', '025schuz/25-3.html'), ('3.', '025schuz/25-4.html'), ('14.', '025schuz/25-5.html'), ('15.', '025schuz/25-6.html'), ('16.', '025schuz/25-7.html'), ('17.\\xa0června\\xa02022', '025schuz/25-8.html'), ('Vystoupení prezidenta Ukrajiny Volodymyra Zelenského před oběma komorami Parlamentu České republiky', '220615/'), ('26. schůze', '026schuz/index.htm'), ('15.\\xa0června\\xa02022', '026schuz/26-1.html'), ('27. schůze', '027schuz/index.htm'), ('23.\\xa0června\\xa02022', '027schuz/27-1.html'), ('28. schůze', '028schuz/index.htm'), ('24.\\xa0června\\xa02022', '028schuz/28-1.html'), ('29. schůze', '029schuz/index.htm'), ('8.', '029schuz/29-1.html'), ('13.', '029schuz/29-2.html'), ('20.\\xa0července\\xa02022', '029schuz/29-3.html'), ('30. schůze', '030schuz/index.htm'), ('7.\\xa0července\\xa02022', '030schuz/30-1.html'), ('31. schůze', '031schuz/index.htm'), ('7.', '031schuz/31-1.html'), ('12.\\xa0července\\xa02022', '031schuz/31-2.html'), ('32. schůze', '032schuz/index.htm'), ('14.\\xa0července', '032schuz/32-1.html'), ('18.\\xa0listopadu\\xa02022', '032schuz/32-2.html'), ('33. schůze', '033schuz/index.htm'), ('26.\\xa0srpna\\xa02022', '033schuz/33-1.html'), ('34. schůze', '034schuz/index.htm'), ('27.\\xa0srpna\\xa02022', '034schuz/34-1.html'), ('35. schůze', '035schuz/index.htm'), ('6.', '035schuz/35-1.html'), ('7.', '035schuz/35-2.html'), ('8.', '035schuz/35-3.html'), ('9.', '035schuz/35-4.html'), ('27.', '035schuz/35-5.html'), ('30.\\xa0září\\xa02022', '035schuz/35-6.html'), ('36. schůze', '036schuz/index.htm'), ('1.', '036schuz/36-1.html'), ('2.\\xa0září\\xa02022', '036schuz/36-2.html'), ('37. schůze', '037schuz/index.htm'), ('16.\\xa0září\\xa02022', '037schuz/37-1.html'), ('38. schůze', '038schuz/index.htm'), ('16.\\xa0září\\xa02022', '038schuz/38-1.html'), ('39. schůze', '039schuz/index.htm'), ('16.\\xa0září\\xa02022', '039schuz/39-1.html'), ('40. schůze', '040schuz/index.htm'), ('29.\\xa0září\\xa02022', '040schuz/40-1.html'), ('41. schůze', '041schuz/index.htm'), ('11.', '041schuz/41-1.html'), ('12.', '041schuz/41-2.html'), ('13.', '041schuz/41-3.html'), ('14.', '041schuz/41-4.html'), ('25.', '041schuz/41-5.html'), ('26.\\xa0října\\xa02022', '041schuz/41-6.html'), ('42. schůze', '042schuz/index.htm'), ('18.\\xa0října\\xa02022', '042schuz/42-1.html'), ('43. schůze', '043schuz/index.htm'), ('1.\\xa0listopadu\\xa02022', '043schuz/43-1.html'), ('44. schůze', '044schuz/index.htm'), ('4.', '044schuz/44-1.html'), ('16.\\xa0listopadu\\xa02022', '044schuz/44-2.html'), ('45. schůze', '045schuz/index.htm'), ('15.', '045schuz/45-1.html'), ('16.', '045schuz/45-2.html'), ('18.', '045schuz/45-3.html'), ('29.', '045schuz/45-4.html'), ('30.\\xa0listopadu', '045schuz/45-5.html'), ('1.', '045schuz/45-6.html'), ('2.\\xa0prosince\\xa02022', '045schuz/45-7.html'), ('46. schůze', '046schuz/index.htm'), ('25.\\xa0listopadu\\xa02022', '046schuz/46-1.html'), ('47. schůze', '047schuz/index.htm'), ('29.\\xa0listopadu\\xa02022', '047schuz/47-1.html'), ('48. schůze', '048schuz/index.htm'), ('13.', '048schuz/48-1.html'), ('14.', '048schuz/48-2.html'), ('16.\\xa0prosince\\xa02022', '048schuz/48-3.html'), ('49. schůze', '049schuz/index.htm'), ('15.\\xa0prosince\\xa02022', '049schuz/49-1.html'), ('50. schůze', '050schuz/index.htm'), ('10.', '050schuz/50-1.html'), ('11.', '050schuz/50-2.html'), ('12.', '050schuz/50-3.html'), ('13.', '050schuz/50-4.html'), ('24.', '050schuz/50-5.html'), ('25.\\xa0ledna\\xa02023', '050schuz/50-6.html'), ('51. schůze', '051schuz/index.htm'), ('17.', '051schuz/51-1.html'), ('18.', '051schuz/51-2.html'), ('19.\\xa0ledna\\xa02023', '051schuz/51-3.html'), ('52. schůze', '052schuz/index.htm'), ('7.', '052schuz/52-1.html'), ('8.', '052schuz/52-2.html'), ('9.', '052schuz/52-3.html'), ('10.\\xa0února\\xa02023', '052schuz/52-4.html'), ('53. schůze', '053schuz/index.htm'), ('21.', '053schuz/53-1.html'), ('22.', '053schuz/53-2.html'), ('23.', '053schuz/53-3.html'), ('24.\\xa0února', '053schuz/53-4.html'), ('7.', '053schuz/53-5.html'), ('10.', '053schuz/53-6.html'), ('24.\\xa0března\\xa02023', '053schuz/53-7.html'), ('54. schůze', '054schuz/index.htm'), ('22.\\xa0února', '054schuz/54-1.html'), ('8.', '054schuz/54-2.html'), ('10.\\xa0března', '054schuz/54-3.html'), ('30.\\xa0května\\xa02023', '054schuz/54-4.html'), ('55. schůze', '055schuz/index.htm'), ('28.\\xa0února', '055schuz/55-1.html'), ('1.', '055schuz/55-2.html'), ('2.', '055schuz/55-3.html'), ('3.', '055schuz/55-4.html'), ('4.\\xa0března\\xa02023', '055schuz/55-5.html'), ('56. schůze', '056schuz/index.htm'), ('4.\\xa0března\\xa02023', '056schuz/56-1.html'), ('57. schůze', '057schuz/index.htm'), ('4.\\xa0března\\xa02023', '057schuz/57-1.html'), ('58. schůze', '058schuz/index.htm'), ('8.\\xa0března\\xa02023', '058schuz/58-1.html'), ('59. schůze', '059schuz/index.htm'), ('8.\\xa0března\\xa02023', '059schuz/59-1.html'), ('60. schůze', '060schuz/index.htm'), ('8.\\xa0března', '060schuz/60-1.html'), ('19.\\xa0dubna\\xa02023', '060schuz/60-2.html'), ('61. schůze', '061schuz/index.htm'), ('8.\\xa0března\\xa02023', '061schuz/61-1.html'), ('62. schůze', '062schuz/index.htm'), ('10.\\xa0března\\xa02023', '062schuz/62-1.html'), ('63. schůze', '063schuz/index.htm'), ('4.', '063schuz/63-1.html'), ('5.', '063schuz/63-2.html'), ('18.', '063schuz/63-3.html'), ('19.', '063schuz/63-4.html'), ('20.', '063schuz/63-5.html'), ('21.\\xa0dubna', '063schuz/63-6.html'), ('2.', '063schuz/63-7.html'), ('3.\\xa0května\\xa02023', '063schuz/63-8.html'), ('64. schůze', '064schuz/index.htm'), ('19.\\xa0dubna\\xa02023', '064schuz/64-1.html'), ('65. schůze', '065schuz/index.htm'), ('16.', '065schuz/65-1.html'), ('17.', '065schuz/65-2.html'), ('18.', '065schuz/65-3.html'), ('30.', '065schuz/65-4.html'), ('31.\\xa0května', '065schuz/65-5.html'), ('1.', '065schuz/65-6.html'), ('2.', '065schuz/65-7.html'), ('13.', '065schuz/65-8.html'), ('15.\\xa0června\\xa02023', '065schuz/65-9.html'), ('66. schůze', '066schuz/index.htm'), ('19.\\xa0května', '066schuz/66-1.html'), ('14.', '066schuz/66-2.html'), ('16.\\xa0června\\xa02023', '066schuz/66-3.html'), ('67. schůze', '067schuz/index.htm'), ('8.\\xa0června\\xa02023', '067schuz/67-1.html'), ('68. schůze', '068schuz/index.htm'), ('14.\\xa0června\\xa02023', '068schuz/68-1.html'), ('69. schůze', '069schuz/index.htm'), ('16.', '069schuz/69-1.html'), ('21.\\xa0června\\xa02023', '069schuz/69-2.html'), ('70. schůze', '070schuz/index.htm'), ('27.', '070schuz/70-1.html'), ('28.', '070schuz/70-2.html'), ('29.', '070schuz/70-3.html'), ('30.\\xa0června', '070schuz/70-4.html'), ('12.\\xa0července\\xa02023', '070schuz/70-5.html'), ('71. schůze', '071schuz/index.htm'), ('11.', '071schuz/71-1.html'), ('12.', '071schuz/71-2.html'), ('13.', '071schuz/71-3.html'), ('14.', '071schuz/71-4.html'), ('19.', '071schuz/71-5.html'), ('21.', '071schuz/71-6.html'), ('26.\\xa0července\\xa02023', '071schuz/71-7.html'), ('72. schůze', '072schuz/index.htm'), ('19.\\xa0července\\xa02023', '072schuz/72-1.html'), ('73. schůze', '073schuz/index.htm'), ('29.\\xa0srpna\\xa02023', '073schuz/73-1.html'), ('74. schůze', '074schuz/index.htm'), ('5.', '074schuz/74-1.html'), ('6.', '074schuz/74-2.html'), ('8.', '074schuz/74-3.html'), ('12.', '074schuz/74-4.html'), ('13.', '074schuz/74-5.html'), ('14.', '074schuz/74-6.html'), ('15.\\xa0září\\xa02023', '074schuz/74-7.html'), ('75. schůze', '075schuz/index.htm'), ('7.\\xa0září\\xa02023', '075schuz/75-1.html'), ('76. schůze', '076schuz/index.htm'), ('26.\\xa0září\\xa02023', '076schuz/76-1.html'), ('77. schůze', '077schuz/index.htm'), ('22.', '077schuz/77-1.html'), ('27.\\xa0září', '077schuz/77-2.html'), ('11.', '077schuz/77-3.html'), ('13.\\xa0října\\xa02023', '077schuz/77-4.html'), ('78. schůze', '078schuz/index.htm'), ('10.', '078schuz/78-1.html'), ('12.', '078schuz/78-2.html'), ('13.', '078schuz/78-3.html'), ('24.', '078schuz/78-4.html'), ('25.', '078schuz/78-5.html'), ('26.', '078schuz/78-6.html'), ('27.\\xa0října\\xa02023', '078schuz/78-7.html'), ('79. schůze', '079schuz/index.htm'), ('17.', '079schuz/79-1.html'), ('18.\\xa0října\\xa02023', '079schuz/79-2.html'), ('80. schůze', '080schuz/index.htm'), ('26.\\xa0října\\xa02023', '080schuz/80-1.html'), ('Jmenný rejstřík k stenozáznamům', '../rejstrik/jmenny/index.htm'), ('Zvukové záznamy', '../audio/index.htm'), ('Těsnopisecké zprávy', '../tesnopis/index.htm'), ('Komprimované stenozáznamy', 'zip/index.htm'), ('Přehled schůzí', '/sqw/hp.sqw?k=1002&o=9'), ('O stenoprotokolech', '/sqw/hp.sqw?k=1352')]\n",
      "{'1. schůze': {'url': 'https://www.psp.cz/eknih/2021ps/stenprot/001schuz/index.htm'}, '2. schůze': {'url': 'https://www.psp.cz/eknih/2021ps/stenprot/002schuz/index.htm'}, '3. schůze': {'url': 'https://www.psp.cz/eknih/2021ps/stenprot/003schuz/index.htm'}, '4. schůze': {'url': 'https://www.psp.cz/eknih/2021ps/stenprot/004schuz/index.htm'}, '5. schůze': {'url': 'https://www.psp.cz/eknih/2021ps/stenprot/005schuz/index.htm'}, '6. schůze': {'url': 'https://www.psp.cz/eknih/2021ps/stenprot/006schuz/index.htm'}, '7. schůze': {'url': 'https://www.psp.cz/eknih/2021ps/stenprot/007schuz/index.htm'}, '8. schůze': {'url': 'https://www.psp.cz/eknih/2021ps/stenprot/008schuz/index.htm'}, '9. schůze': {'url': 'https://www.psp.cz/eknih/2021ps/stenprot/009schuz/index.htm'}, '10. schůze': {'url': 'https://www.psp.cz/eknih/2021ps/stenprot/010schuz/index.htm'}, '11. schůze': {'url': 'https://www.psp.cz/eknih/2021ps/stenprot/011schuz/index.htm'}, '12. schůze': {'url': 'https://www.psp.cz/eknih/2021ps/stenprot/012schuz/index.htm'}, '13. schůze': {'url': 'https://www.psp.cz/eknih/2021ps/stenprot/013schuz/index.htm'}, '14. schůze': {'url': 'https://www.psp.cz/eknih/2021ps/stenprot/014schuz/index.htm'}, '15. schůze': {'url': 'https://www.psp.cz/eknih/2021ps/stenprot/015schuz/index.htm'}, '16. schůze': {'url': 'https://www.psp.cz/eknih/2021ps/stenprot/016schuz/index.htm'}, '17. schůze': {'url': 'https://www.psp.cz/eknih/2021ps/stenprot/017schuz/index.htm'}, '18. schůze': {'url': 'https://www.psp.cz/eknih/2021ps/stenprot/018schuz/index.htm'}, '19. schůze': {'url': 'https://www.psp.cz/eknih/2021ps/stenprot/019schuz/index.htm'}, '20. schůze': {'url': 'https://www.psp.cz/eknih/2021ps/stenprot/020schuz/index.htm'}, '21. schůze': {'url': 'https://www.psp.cz/eknih/2021ps/stenprot/021schuz/index.htm'}, '22. schůze': {'url': 'https://www.psp.cz/eknih/2021ps/stenprot/022schuz/index.htm'}, '23. schůze': {'url': 'https://www.psp.cz/eknih/2021ps/stenprot/023schuz/index.htm'}, '24. schůze': {'url': 'https://www.psp.cz/eknih/2021ps/stenprot/024schuz/index.htm'}, '25. schůze': {'url': 'https://www.psp.cz/eknih/2021ps/stenprot/025schuz/index.htm'}, '26. schůze': {'url': 'https://www.psp.cz/eknih/2021ps/stenprot/026schuz/index.htm'}, '27. schůze': {'url': 'https://www.psp.cz/eknih/2021ps/stenprot/027schuz/index.htm'}, '28. schůze': {'url': 'https://www.psp.cz/eknih/2021ps/stenprot/028schuz/index.htm'}, '29. schůze': {'url': 'https://www.psp.cz/eknih/2021ps/stenprot/029schuz/index.htm'}, '30. schůze': {'url': 'https://www.psp.cz/eknih/2021ps/stenprot/030schuz/index.htm'}, '31. schůze': {'url': 'https://www.psp.cz/eknih/2021ps/stenprot/031schuz/index.htm'}, '32. schůze': {'url': 'https://www.psp.cz/eknih/2021ps/stenprot/032schuz/index.htm'}, '33. schůze': {'url': 'https://www.psp.cz/eknih/2021ps/stenprot/033schuz/index.htm'}, '34. schůze': {'url': 'https://www.psp.cz/eknih/2021ps/stenprot/034schuz/index.htm'}, '35. schůze': {'url': 'https://www.psp.cz/eknih/2021ps/stenprot/035schuz/index.htm'}, '36. schůze': {'url': 'https://www.psp.cz/eknih/2021ps/stenprot/036schuz/index.htm'}, '37. schůze': {'url': 'https://www.psp.cz/eknih/2021ps/stenprot/037schuz/index.htm'}, '38. schůze': {'url': 'https://www.psp.cz/eknih/2021ps/stenprot/038schuz/index.htm'}, '39. schůze': {'url': 'https://www.psp.cz/eknih/2021ps/stenprot/039schuz/index.htm'}, '40. schůze': {'url': 'https://www.psp.cz/eknih/2021ps/stenprot/040schuz/index.htm'}, '41. schůze': {'url': 'https://www.psp.cz/eknih/2021ps/stenprot/041schuz/index.htm'}, '42. schůze': {'url': 'https://www.psp.cz/eknih/2021ps/stenprot/042schuz/index.htm'}, '43. schůze': {'url': 'https://www.psp.cz/eknih/2021ps/stenprot/043schuz/index.htm'}, '44. schůze': {'url': 'https://www.psp.cz/eknih/2021ps/stenprot/044schuz/index.htm'}, '45. schůze': {'url': 'https://www.psp.cz/eknih/2021ps/stenprot/045schuz/index.htm'}, '46. schůze': {'url': 'https://www.psp.cz/eknih/2021ps/stenprot/046schuz/index.htm'}, '47. schůze': {'url': 'https://www.psp.cz/eknih/2021ps/stenprot/047schuz/index.htm'}, '48. schůze': {'url': 'https://www.psp.cz/eknih/2021ps/stenprot/048schuz/index.htm'}, '49. schůze': {'url': 'https://www.psp.cz/eknih/2021ps/stenprot/049schuz/index.htm'}, '50. schůze': {'url': 'https://www.psp.cz/eknih/2021ps/stenprot/050schuz/index.htm'}, '51. schůze': {'url': 'https://www.psp.cz/eknih/2021ps/stenprot/051schuz/index.htm'}, '52. schůze': {'url': 'https://www.psp.cz/eknih/2021ps/stenprot/052schuz/index.htm'}, '53. schůze': {'url': 'https://www.psp.cz/eknih/2021ps/stenprot/053schuz/index.htm'}, '54. schůze': {'url': 'https://www.psp.cz/eknih/2021ps/stenprot/054schuz/index.htm'}, '55. schůze': {'url': 'https://www.psp.cz/eknih/2021ps/stenprot/055schuz/index.htm'}, '56. schůze': {'url': 'https://www.psp.cz/eknih/2021ps/stenprot/056schuz/index.htm'}, '57. schůze': {'url': 'https://www.psp.cz/eknih/2021ps/stenprot/057schuz/index.htm'}, '58. schůze': {'url': 'https://www.psp.cz/eknih/2021ps/stenprot/058schuz/index.htm'}, '59. schůze': {'url': 'https://www.psp.cz/eknih/2021ps/stenprot/059schuz/index.htm'}, '60. schůze': {'url': 'https://www.psp.cz/eknih/2021ps/stenprot/060schuz/index.htm'}, '61. schůze': {'url': 'https://www.psp.cz/eknih/2021ps/stenprot/061schuz/index.htm'}, '62. schůze': {'url': 'https://www.psp.cz/eknih/2021ps/stenprot/062schuz/index.htm'}, '63. schůze': {'url': 'https://www.psp.cz/eknih/2021ps/stenprot/063schuz/index.htm'}, '64. schůze': {'url': 'https://www.psp.cz/eknih/2021ps/stenprot/064schuz/index.htm'}, '65. schůze': {'url': 'https://www.psp.cz/eknih/2021ps/stenprot/065schuz/index.htm'}, '66. schůze': {'url': 'https://www.psp.cz/eknih/2021ps/stenprot/066schuz/index.htm'}, '67. schůze': {'url': 'https://www.psp.cz/eknih/2021ps/stenprot/067schuz/index.htm'}, '68. schůze': {'url': 'https://www.psp.cz/eknih/2021ps/stenprot/068schuz/index.htm'}, '69. schůze': {'url': 'https://www.psp.cz/eknih/2021ps/stenprot/069schuz/index.htm'}, '70. schůze': {'url': 'https://www.psp.cz/eknih/2021ps/stenprot/070schuz/index.htm'}, '71. schůze': {'url': 'https://www.psp.cz/eknih/2021ps/stenprot/071schuz/index.htm'}, '72. schůze': {'url': 'https://www.psp.cz/eknih/2021ps/stenprot/072schuz/index.htm'}, '73. schůze': {'url': 'https://www.psp.cz/eknih/2021ps/stenprot/073schuz/index.htm'}, '74. schůze': {'url': 'https://www.psp.cz/eknih/2021ps/stenprot/074schuz/index.htm'}, '75. schůze': {'url': 'https://www.psp.cz/eknih/2021ps/stenprot/075schuz/index.htm'}, '76. schůze': {'url': 'https://www.psp.cz/eknih/2021ps/stenprot/076schuz/index.htm'}, '77. schůze': {'url': 'https://www.psp.cz/eknih/2021ps/stenprot/077schuz/index.htm'}, '78. schůze': {'url': 'https://www.psp.cz/eknih/2021ps/stenprot/078schuz/index.htm'}, '79. schůze': {'url': 'https://www.psp.cz/eknih/2021ps/stenprot/079schuz/index.htm'}, '80. schůze': {'url': 'https://www.psp.cz/eknih/2021ps/stenprot/080schuz/index.htm'}}\n"
     ]
    }
   ],
   "source": [
    "print(get_all_schuze_links(URL))"
   ]
  },
  {
   "cell_type": "code",
   "execution_count": null,
   "id": "d2300450-15d6-4663-b887-76b85cf8deee",
   "metadata": {},
   "outputs": [],
   "source": [
    "# def get_all_links(URL):\n",
    "#     all_links = []\n",
    "    \n",
    "#     soup = fetch_website_content(URL)\n",
    "#     body_content = extract_html_of_div_with_id(soup, \"body\")\n",
    "#     hrefs = extract_html_of_a_with_href(body_content)\n",
    "#     links = [link for link in hrefs if \"schuz\" in link and \"index\" in link]\n",
    "#     all_url_schuze = [URL.split(\"/index\")[0] + \"/\" + link for link in links]\n",
    "#     for URL_schuze in all_url_schuze:\n",
    "#         soup_schuze = fetch_website_content(URL_schuze)\n",
    "#         body_content_schuze = extract_html_of_div_with_id(soup, \"main-content\")\n",
    "#         hrefs_schuze = extract_html_of_a_with_href(body_content)\n",
    "#         links_schuze = [link for link in hrefs_schuze if \"-\" in link]\n",
    "#         all_url_schuze_parts = [URL.split(\"/index\")[0] + \"/\" + link_schuze for link_schuze in links_schuze]\n",
    "#         for URL_zaznam in all_url_schuze_parts[0:2]:\n",
    "#             soup_zaznam = fetch_website_content(URL_zaznam)\n",
    "#             body_content_zaznam = extract_html_of_div_with_id(soup_zaznam, \"body\")\n",
    "#             hrefs_zaznam = [(a.get_text(), a['href']) for a in body_content_zaznam.find_all('a', href=True)]\n",
    "#             links_zaznam = [link[1] for link in hrefs_schuze_detail if \"#r\" in link[1]]\n",
    "#             all_url_zaznam_parts = [URL_schuze.split(\"/index\")[0] + \"/\" + link_zaznam for link_zaznam in links_zaznam]\n",
    "            \n",
    "#             all_links += all_url_zaznam_parts\n",
    "            \n",
    "#         # extract_html_of_div_with_id(html_content_schuze, \"body\")\n",
    "#     return all_links\n"
   ]
  },
  {
   "cell_type": "code",
   "execution_count": null,
   "id": "d8a20b7a-1d12-4955-9c25-b02fdb7cbb8f",
   "metadata": {},
   "outputs": [],
   "source": [
    "# def get_all_data(all_url):\n",
    "#     all_data = []\n",
    "#     for url in all_url:\n",
    "#         try:\n",
    "#             soup = fetch_website_content(url)\n",
    "#             body_content = extract_html_of_div_with_id(soup, \"main-content\")\n",
    "#             p_tags = extract_content_of_p_with_align(body_content, \"justify\")\n",
    "#             all_data += p_tags\n",
    "#         except:\n",
    "#             # print(\"Couldnt get data from: \", url)\n",
    "#     return all_data"
   ]
  },
  {
   "cell_type": "code",
   "execution_count": null,
   "id": "3c307ebc-161c-4b03-846c-c0f37617cc55",
   "metadata": {},
   "outputs": [],
   "source": [
    "# all_url = get_all_links(URL)\n",
    "# all_data = get_all_data(all_url)\n",
    "# print(all_data)"
   ]
  }
 ],
 "metadata": {
  "kernelspec": {
   "display_name": "Python 3 (ipykernel)",
   "language": "python",
   "name": "python3"
  },
  "language_info": {
   "codemirror_mode": {
    "name": "ipython",
    "version": 3
   },
   "file_extension": ".py",
   "mimetype": "text/x-python",
   "name": "python",
   "nbconvert_exporter": "python",
   "pygments_lexer": "ipython3",
   "version": "3.10.11"
  }
 },
 "nbformat": 4,
 "nbformat_minor": 5
}
