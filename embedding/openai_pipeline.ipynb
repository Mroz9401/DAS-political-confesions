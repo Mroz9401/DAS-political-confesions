{
 "cells": [
  {
   "cell_type": "code",
   "execution_count": 5,
   "id": "51c29e59",
   "metadata": {},
   "outputs": [],
   "source": [
    "from langchain.chat_models import ChatOpenAI\n",
    "from langchain.schema import HumanMessage\n",
    "from langchain.chains import ConversationChain\n",
    "from langchain.memory import ConversationBufferMemory\n",
    "import os\n",
    "import torch\n",
    "from transformers import AutoTokenizer, AutoModelForMaskedLM, pipeline\n",
    "from sklearn.metrics.pairwise import cosine_similarity\n",
    "import math\n",
    "import json\n",
    "import numpy as np\n",
    "import pickle"
   ]
  },
  {
   "cell_type": "code",
   "execution_count": 112,
   "id": "b3e4dfb8",
   "metadata": {},
   "outputs": [],
   "source": [
    "with open('/home/martin/Coding/DAS-political-confesions/FlaskApp/openaiKey.txt', 'r') as file:\n",
    "    key_content = file.read()\n",
    "\n",
    "OPENAI_API_KEY = str(key_content.strip())"
   ]
  },
  {
   "cell_type": "code",
   "execution_count": 113,
   "id": "b163f1dd",
   "metadata": {},
   "outputs": [],
   "source": [
    "with open('contexts_embeddings.pkl', 'rb') as f:\n",
    "    embeddings = pickle.load(f)\n",
    "    \n",
    "with open('contexts.pkl', 'rb') as f:\n",
    "    contexts = pickle.load(f)"
   ]
  },
  {
   "cell_type": "code",
   "execution_count": 114,
   "id": "2f0d43ba",
   "metadata": {},
   "outputs": [],
   "source": [
    "json_file_path = \"/home/martin/Coding/DAS-political-confesions/embedding/stopwords-cs.json\"\n",
    "# Open and load the JSON file\n",
    "with open(json_file_path, \"r\", encoding=\"utf-8\") as file:\n",
    "    stopwords = json.load(file)\n",
    "    \n",
    "special_characters_mapping = {'š': 's', 'č': 'c', 'ě': 'e', 'ž': 'z', 'ř': 'r', 'ý': 'y', 'á': 'a', 'í': 'i', 'é': 'e', 'ň': 'n'}\n",
    "special_characters_mapping.update({char.upper(): replacement.upper() for char, replacement in special_characters_mapping.items()})\n",
    "\n",
    "def preprocess_text(text, stopwords):\n",
    "    \n",
    "#     for special_char, replacement in special_characters_mapping.items():\n",
    "#         text = text.replace(special_char, replacement)\n",
    "    \n",
    "    words = text.split()\n",
    "\n",
    "#     words = [word[0:4] for word in words if len(word) > 7]\n",
    "    \n",
    "    filtered_words = [word for word in words if word.lower() not in stopwords]\n",
    "    return ' '.join(filtered_words)"
   ]
  },
  {
   "cell_type": "code",
   "execution_count": 115,
   "id": "a3d90ca7",
   "metadata": {},
   "outputs": [
    {
     "name": "stderr",
     "output_type": "stream",
     "text": [
      "Some weights of the model checkpoint at ufal/robeczech-base were not used when initializing RobertaForMaskedLM: ['roberta.pooler.dense.bias', 'roberta.pooler.dense.weight']\n",
      "- This IS expected if you are initializing RobertaForMaskedLM from the checkpoint of a model trained on another task or with another architecture (e.g. initializing a BertForSequenceClassification model from a BertForPreTraining model).\n",
      "- This IS NOT expected if you are initializing RobertaForMaskedLM from the checkpoint of a model that you expect to be exactly identical (initializing a BertForSequenceClassification model from a BertForSequenceClassification model).\n"
     ]
    }
   ],
   "source": [
    "model_name = \"ufal/robeczech-base\" \n",
    "tokenizer = AutoTokenizer.from_pretrained(model_name)\n",
    "model = AutoModelForMaskedLM.from_pretrained(model_name)\n",
    "\n",
    "feature_extraction_pipeline = pipeline('feature-extraction', model=model_name, tokenizer=tokenizer)  # 'device=0' for GPU, remove for CPU"
   ]
  },
  {
   "cell_type": "code",
   "execution_count": 116,
   "id": "8a6f327b",
   "metadata": {},
   "outputs": [
    {
     "name": "stdout",
     "output_type": "stream",
     "text": [
      "[[-4.03628025e-02  5.36570216e-02  1.04333167e-03 -5.89159659e-02\n",
      "   1.92006809e-02 -5.72244334e-02 -6.43231083e-02 -1.71656231e-02\n",
      "   4.15612581e-02 -1.03746231e-02  6.90651411e-02 -9.38402009e-02\n",
      "   3.00718857e-02  5.66149576e-02  2.68574475e-02 -1.88042546e-01\n",
      "  -8.07171307e-03  2.77793469e-02  4.54649230e-02 -1.48850735e-01\n",
      "   5.82393823e-02  6.45200362e-03  2.26554242e-02  6.45743286e-02\n",
      "   8.90842038e-03 -2.40720595e-03 -5.39948161e-03  1.87258760e-02\n",
      "   3.17098483e-02 -1.87978854e-02  2.56176807e-02 -5.87608113e-02\n",
      "   4.78304324e-02  4.42866770e-03  9.79728583e-02 -9.02278918e-02\n",
      "  -6.06011378e-03  1.07611751e-02 -6.94195352e-02  3.73238577e-02\n",
      "  -2.65616262e-01  8.12871451e-02 -1.31005907e-01 -8.25457039e-02\n",
      "  -1.64747529e-02  1.94960162e-03 -1.57446020e-02  7.77087138e-03\n",
      "   6.66404108e-02  3.90221721e-01  1.10211283e-01  1.41016036e-02\n",
      "  -1.04439083e-01 -1.13709966e-01  3.23126016e-01  1.49577259e-01\n",
      "   5.15624249e-02 -8.80149047e-02 -8.51494326e-02 -3.92835758e-02\n",
      "  -1.01502413e-01  1.33789566e-02 -1.06140239e-02 -1.19472517e-03\n",
      "  -1.24430061e-03 -8.41726198e-03 -1.90582775e-02 -1.61139979e-02\n",
      "  -1.36124273e-02  2.45573541e-02 -3.28468258e-02 -6.69588236e-02\n",
      "  -3.01617202e-02 -1.07348399e-01  2.71438857e-02 -2.05546704e-01\n",
      "  -3.18396989e-02  7.99690769e-02  1.69453988e-01 -1.14265718e-02\n",
      "  -1.73293752e-02 -1.14461696e-01  8.68468183e-03  1.07865367e-01\n",
      "  -3.49428613e-02 -5.43114176e-02 -6.96120259e-02 -3.27412136e-02\n",
      "  -4.11296191e-02  5.15994884e-02 -5.78640449e-02 -3.19655049e-02\n",
      "  -1.02833298e-01 -2.33166843e-02  8.71966337e-02 -1.04723813e-03\n",
      "   3.69740854e-02 -8.36684842e-02  4.27941669e-02  2.45124255e-02\n",
      "  -6.10618654e-02  1.74596748e-01 -7.56938580e-02 -9.31965997e-02\n",
      "  -2.78342931e-02  3.95661649e-02  4.44140019e-02  1.60765905e-01\n",
      "  -4.64657065e-02 -1.05757563e-02  7.64708647e-02  1.71838411e-02\n",
      "  -3.31596315e-03 -1.23116759e-01 -4.65520978e-02  2.02901859e-02\n",
      "   5.63961450e-02 -2.75876908e-02 -1.15020674e-01 -5.22195455e-02\n",
      "   6.82950239e-04 -5.84152190e-02 -4.69861623e-03  6.77803128e-02\n",
      "   2.99514571e-02  1.60769413e-02 -1.73433050e-03 -1.72222279e-01\n",
      "   3.17014032e-02  5.75472923e-02  1.94695037e-02  5.26486503e-02\n",
      "   3.84626045e-02  2.88934023e-03 -1.12400248e-02 -1.10235014e-02\n",
      "   6.17183325e-02  1.03724753e-02  1.96985688e-02 -1.12859539e-02\n",
      "  -8.98520511e-02  3.02278084e-02  4.88337211e-02 -3.57432968e-02\n",
      "   7.68662986e-02 -1.48667995e-02 -1.80500510e-03  3.45810871e-02\n",
      "   8.37728366e-02  9.94054968e-02  4.00250880e-02 -4.44187565e-02\n",
      "   5.60049880e-02 -7.41156318e-02  6.11003658e-02  8.09205378e-02\n",
      "   6.18825709e-03  2.26177768e-03 -5.70276662e-02  5.49170777e-03\n",
      "  -1.34208119e-01 -8.55150969e-02  5.20790377e-02  3.16271799e-02\n",
      "  -1.30637906e-02 -3.42671515e-02  1.14077433e-02  1.46163881e-02\n",
      "  -1.19758141e-01  2.89223435e-02  7.03012421e-01 -2.11221245e-02\n",
      "  -1.07647409e-01  1.04199441e-01 -2.71116623e-02  2.55164273e-02\n",
      "  -5.04980640e-02  1.27617158e-02  7.40747913e-02  1.99772124e-01\n",
      "   9.42288372e-02  4.13106353e-02 -4.38554564e-02 -5.47370205e-02\n",
      "  -2.84262621e-02 -2.87044959e-02  1.67761854e-02  8.48039783e-02\n",
      "   8.98021845e-03  2.66497226e-02 -1.17064222e-02  5.54276720e-02\n",
      "  -9.08195745e-02  6.13920507e-03  1.94648757e-02 -1.01943530e-01\n",
      "  -3.09453429e-02  2.61383489e-03  1.30419637e-01 -1.13706861e-01\n",
      "  -4.08050342e-03  1.70311597e-02  1.38963325e-02 -5.16731003e-05\n",
      "  -1.59216616e-01  2.22546989e-02  2.31900009e-01 -1.03297333e-01\n",
      "   4.15621505e-02 -3.04239486e-02 -2.61934309e-02 -6.61537494e-02\n",
      "  -3.54479818e-02  7.24947980e-02  2.55249529e-02 -3.14449815e-01\n",
      "  -1.63900205e-02  7.08867066e-03 -7.21096661e-02 -1.64229484e-02\n",
      "  -6.23887148e-02 -3.06104537e-03  6.23753074e-02 -6.89847512e-04\n",
      "   5.52128397e-02  1.03830494e-01 -9.03230992e-02 -6.23033551e-02\n",
      "   1.30822023e-01  2.36547392e-02 -3.88857420e-02 -2.51888935e-03\n",
      "   1.22059938e-01  3.36966057e-02  1.17395658e-02 -9.10303651e-02\n",
      "   2.32861594e-02 -6.89768876e-02 -2.16677354e-01 -1.38980591e-03\n",
      "   2.71502006e-02  1.45472855e-02  1.12315789e-01  8.13196241e-02\n",
      "   3.71519750e-02  4.98557036e-02 -2.73928177e-02 -8.78101947e-02\n",
      "  -5.04612487e-02 -1.25284967e-01  1.35823482e-01 -4.98643077e-02\n",
      "  -3.41530678e-02  1.95015178e-02 -8.28756794e-02 -1.00623557e-02\n",
      "  -1.55052928e-02 -4.86209575e-02 -1.43019325e-02  1.81457520e-02\n",
      "   2.57882821e-02  1.37896285e-01  6.27450408e-02 -9.41441544e-02\n",
      "   4.38030637e-02  7.49008519e-02 -4.11358153e-02 -1.22835705e-01\n",
      "  -4.14716145e-02 -7.78587803e-02 -4.36713649e-03 -5.05035806e-02\n",
      "   8.50710797e-02  2.96364684e-02 -3.69186178e-02  2.12638822e-01\n",
      "  -9.76410473e-02  8.61438530e-02  1.10459991e-02  1.60441694e-01\n",
      "   5.68314545e-03 -3.14216226e-02 -4.99515704e-02 -2.72954080e-01\n",
      "   7.29243502e-02  7.16751552e-02 -2.09616741e-02  1.34995469e-02\n",
      "  -1.84705211e-01  1.46289145e-02  9.59790818e-03 -3.15958182e-01\n",
      "  -1.96051344e-02  4.69655770e-02  2.69274190e-02 -6.71452647e-02\n",
      "   2.81093543e-01  3.98402053e-03 -2.43353531e-02 -2.87693872e-02\n",
      "   4.31965534e-02 -8.61884270e-02 -4.98978655e-02 -4.32255264e-03\n",
      "  -1.30154471e-02 -5.91743602e-03 -1.68690698e-01  2.42525980e-02\n",
      "  -1.12013528e-02 -2.09906255e-02 -7.26235588e-02 -1.32090920e-01\n",
      "  -2.13615524e-02  1.93745897e-01 -1.03832931e-01  7.67834343e-03\n",
      "  -3.19834575e-02 -1.84649505e-02 -6.92723640e-03 -1.31979879e-01\n",
      "   7.24070770e-03 -5.28547976e-02 -1.83809184e-01 -7.37848969e-02\n",
      "   3.08700844e-02  3.13492885e-03  3.95692642e-02  3.71699673e-02\n",
      "  -1.63466093e-01 -1.86165063e-02 -7.41445495e-02 -1.90118893e-02\n",
      "  -4.24946955e-02 -7.68925882e-02 -3.43424213e-01  2.05862684e-02\n",
      "  -9.85471690e-03  1.20496036e-01 -2.25853476e-02 -6.14263489e-02\n",
      "  -7.86317010e-02 -5.44225528e-02 -1.57193665e-02 -2.95876938e-02\n",
      "  -6.19068287e-02  9.99913559e-02 -1.04165868e-01 -1.06521138e-02\n",
      "   1.52749937e-01 -8.45691571e-02 -5.10470031e-02  2.44751437e-02\n",
      "   4.05454113e-02  2.36025991e-02 -4.92271582e-02 -4.30013468e-02\n",
      "   6.73285172e-02 -1.93025595e-02  2.80049024e-02 -2.46330626e-02\n",
      "   6.33902177e-02 -7.88794145e-02 -8.89130272e-02 -2.63923938e-02\n",
      "  -6.67000242e-02  2.65030935e-02  7.07230654e-02  3.06318720e-02\n",
      "  -8.37953675e-02 -1.09837606e-01  1.40565180e-02 -3.79415159e-02\n",
      "  -7.74885966e-02 -9.29646299e-02 -1.59830018e-02 -1.08549062e-02\n",
      "  -4.22153122e-02 -5.23416516e-02  3.83168050e-02 -1.35662635e-02\n",
      "  -6.46057105e-02 -2.04578266e-01  1.17412184e-02  1.15755641e-02\n",
      "  -4.64422786e-02  4.74859555e-03 -4.34782496e-02  4.91269397e-02\n",
      "  -2.72863197e-02 -1.32369136e-01  5.71925152e-02 -5.81515831e-03\n",
      "  -1.13846323e-01  4.40014339e-02  2.17254901e-01 -7.65924264e-02\n",
      "  -4.08751391e-02  5.42812427e-02 -3.99472761e-02 -8.26973419e-02\n",
      "   4.88603960e-02 -2.49660470e-02 -5.88700362e-02  6.34564711e-02\n",
      "   4.26590623e-02  7.06051041e-03 -1.02336750e-01  2.25759630e-02\n",
      "   1.37134283e-01 -1.59226632e-02 -2.15283261e-02 -1.61554075e-02\n",
      "   9.38472137e-02  1.92262861e-02  4.74465646e-02 -4.45592924e-02\n",
      "   4.54314155e-02 -4.17161518e-02 -2.82185911e-02 -9.14870913e-03\n",
      "  -7.25846888e-03 -5.27713371e-02 -3.52784149e-02 -1.17303911e-03\n",
      "   4.03352005e-02  2.51859184e-02 -2.15603539e-02  4.37759601e-02\n",
      "   3.21494272e-02 -1.14955050e-01 -5.42065711e-02  3.13364657e-02\n",
      "  -3.40009278e-03  6.46971177e-01  3.34938133e-01  3.26217898e-02\n",
      "   3.41177471e-02 -2.45738675e-02  4.95357574e-02  3.26357427e-02\n",
      "   1.43217162e-02  3.24271032e-01  1.67569862e-02  2.92242292e-02\n",
      "   9.80242582e-02  8.29217666e-03 -2.07772242e-02  1.36010544e-01\n",
      "   3.41679940e-02  1.69725851e-02 -4.49337984e-02 -8.52283994e-02\n",
      "  -2.32995414e-01 -6.03726214e-02  1.67779894e-01 -2.63443096e-02\n",
      "   6.25109857e-02  6.53230305e-04 -1.81370375e-02 -1.43203995e-01\n",
      "   4.60935658e-01  4.74957574e-02  8.65406577e-02  9.06746777e-03\n",
      "  -1.10718215e-01 -8.91605666e-03  6.29788909e-02 -1.84426482e-02\n",
      "  -1.18928143e-01 -8.17781771e-03 -1.53951371e-01  2.77653919e-02\n",
      "  -1.18294852e-01 -2.11207834e-02  9.48775350e-02  2.15625931e-02\n",
      "   9.14386157e-03  1.11674040e-02  2.64173279e-02 -1.50285009e-02\n",
      "   4.62353795e-03  1.48881119e-03 -3.38499411e-02  1.05392797e-02\n",
      "   2.27447673e-02 -3.20047482e-02  1.66814446e-02 -6.13757607e-03\n",
      "  -5.65677629e-02 -3.74966533e-02  2.27711130e-02 -3.64748512e-02\n",
      "  -1.24975069e-01 -4.51453300e-02  2.13004806e-02 -2.79607686e-02\n",
      "  -2.08322970e-03  6.56663696e-02 -5.83036155e-02 -3.21903427e-02\n",
      "  -4.36552875e-03 -2.02759914e-02 -4.15514965e-02 -7.14370762e-02\n",
      "  -1.14501601e-01 -5.80468875e-02 -4.02687503e-02  1.72490470e-02\n",
      "   5.30475787e-02  1.86297950e-02 -5.35656105e-02 -4.60974840e-02\n",
      "  -2.47404658e-02 -5.20811852e-03 -3.97603821e-02  2.56401187e-02\n",
      "   9.85414996e-03 -7.35275277e-02 -5.01580934e-02  1.01388922e-01\n",
      "  -6.18919009e-02  5.67845154e-02 -3.68728079e-02 -2.90453100e-02\n",
      "  -7.18536246e-02 -3.12723755e-03  1.68440522e-02 -1.28769333e-02\n",
      "  -7.51536989e-03  8.14363449e-03 -7.67468049e-02 -1.12807190e-01\n",
      "  -4.26816498e-02 -3.79032304e-02 -7.72072666e-02 -6.32178596e-02\n",
      "   2.31709494e-02  3.70357420e-02 -5.70986483e-02 -1.50054605e-02\n",
      "  -6.51107267e-02 -1.40027996e-01  2.48889283e-02  1.26132096e-02\n",
      "   9.24777393e-02  7.57060586e-03 -1.06324287e-01 -1.69594698e-02\n",
      "   4.31365976e-02 -5.39984860e-02  7.13693044e-02 -2.47973344e-01\n",
      "  -9.05113010e-02 -5.81548258e-02  2.43967798e-02  3.10875955e-02\n",
      "  -1.59629552e-02 -3.48899154e-02  3.85996674e-02  3.05746565e-02\n",
      "  -1.42199096e-01 -1.68491301e-01 -5.85639829e-02 -2.71137608e-03\n",
      "  -4.74523256e-02  7.57957270e-02 -1.57252401e-01 -7.47171590e-02\n",
      "  -2.04376632e-02 -4.93700898e-02  3.88656671e-02  8.24017631e-02\n",
      "   2.66343106e-02  1.94002215e-02  4.73750093e-02  1.14075480e-01\n",
      "  -3.94953216e-02 -4.51590502e-02 -1.01688083e-01  4.50483605e-02\n",
      "   3.41180232e-02  5.63554037e-02  3.32148947e-02  2.85786450e-02\n",
      "  -1.32734867e-01  1.51141188e-01 -1.16755813e-01 -4.48002958e-02\n",
      "  -1.76936020e-02 -1.00002420e-01 -2.95731105e-03  3.55958111e-02\n",
      "   1.32752676e-01 -2.28977263e-02 -5.09238736e-02  1.94493578e-01\n",
      "  -2.61262550e-02 -7.33263205e-02 -5.54232863e-02 -6.49530719e-02\n",
      "   1.16681500e-01  1.89369379e-04  1.27709479e-01  6.52248345e-02\n",
      "  -3.72098171e-02 -7.19529365e-02  3.90569643e-02 -8.72335328e-02\n",
      "  -1.90935126e-02 -2.54656685e-02 -2.39988816e-02  9.42621709e-02\n",
      "   4.77926882e-02  8.40270894e-03 -4.66676271e-02 -2.54264277e-02\n",
      "  -2.75667649e-02  3.69223880e-02 -1.13309768e-02  7.94000894e-02\n",
      "  -3.48854452e-02 -4.18813753e-01 -6.86251044e+00  6.68313986e-02\n",
      "  -8.20081592e-04  3.33953082e-02  7.25669120e-02  1.75790940e-01\n",
      "   4.70718341e-02  6.36198744e-02 -3.90453048e-02 -5.72141845e-02\n",
      "   2.03457206e-02  8.19859536e-02 -5.00904545e-02  1.26507538e-02\n",
      "   2.13933724e-02  3.12651952e-03 -9.70063364e-02  1.16566316e-01\n",
      "   4.92730267e-03  1.26658701e-02 -1.07632523e-02  2.88926014e-02\n",
      "   1.98405133e-02  3.88069845e-02 -1.68850305e-01 -4.40684432e-02\n",
      "  -3.13749354e-01 -8.58142128e-03 -8.75045911e-02 -1.03960981e-01\n",
      "   8.60007819e-02  5.03309314e-02 -4.61948237e-02  5.17368130e-03\n",
      "   7.43168541e-02  6.21250776e-02  3.03164043e-01 -3.96281534e-02\n",
      "  -2.72625052e-02  8.68845512e-02  1.39881250e-01 -6.12209781e-02\n",
      "   5.49423967e-02 -5.59399926e-02  1.03667838e-02  3.84704986e-02\n",
      "   3.02507435e-02 -4.26651260e-02  3.46344336e-01  2.12943181e-01\n",
      "  -4.74267734e-02 -1.69143462e-01 -1.86931213e-02 -2.64008975e-02\n",
      "  -6.24629250e-02 -1.19771315e-01  7.55153071e-02 -5.54584923e-02\n",
      "  -8.59854114e-02 -7.84400926e-03  3.72960923e-02 -2.22976878e-02\n",
      "  -2.36342849e-04 -2.05197568e-02 -1.75670349e-01 -3.48810366e-01\n",
      "  -3.12354569e-02  2.14675501e-02 -1.03449939e-02  1.02991616e-02\n",
      "  -5.06593886e-02 -1.04495646e-02  2.44734304e-02 -8.19250842e-02\n",
      "  -2.27721557e-02 -3.84288921e-02 -3.01327205e-01 -7.13195912e-02\n",
      "   1.70696986e-01  1.20148082e-01  3.28064070e-03  2.98937730e-01\n",
      "   1.24036682e-01  2.57912383e-02  9.83648282e-02  1.34095418e-01\n",
      "   1.22027773e-02  5.25948973e-02 -1.15904878e-01 -2.04305986e-02\n",
      "   2.38639835e-02 -5.96767024e-02  2.20266241e-02 -1.51482662e-01\n",
      "  -3.61663887e-02  1.26327011e-01  1.16953050e-01  9.31024456e-03\n",
      "  -8.74959007e-03 -2.59608025e-02  1.86801575e-02  6.68948810e-02\n",
      "  -1.05621852e-01  9.97960825e-02 -8.21804237e-02 -1.14616364e-01\n",
      "   5.21837077e-02 -5.42495040e-02  1.51580159e-02 -7.93416447e-02\n",
      "   1.05503526e-02  3.38243463e-03 -3.12629506e-02  1.58746631e-01\n",
      "   2.22298743e-02 -8.55924324e-02 -6.41034564e-05 -5.06755639e-02\n",
      "   1.35560312e-02 -8.11478186e-03  5.06671984e-02  5.17833608e-02\n",
      "  -1.99163174e-02  8.76489437e-03 -4.68694587e-02  8.10956974e-02\n",
      "  -1.22512062e-01  1.70963773e-02  1.50353586e-02 -8.36226466e-03\n",
      "  -4.42234448e-02 -8.54122916e-02  5.29980329e-02  1.96346432e-02\n",
      "   9.07203889e-02  7.21313866e-02 -9.36146081e-02 -4.37062835e-03\n",
      "  -9.94945004e-04 -1.36400622e-01  1.73882315e-01  3.12095233e-02\n",
      "  -9.01237979e-02  3.28880891e-02  7.74166495e-02  5.86698242e-03]]\n"
     ]
    }
   ],
   "source": [
    "print(embeddings['slovakia_elections'])"
   ]
  },
  {
   "cell_type": "code",
   "execution_count": 125,
   "id": "e22169c6",
   "metadata": {},
   "outputs": [],
   "source": [
    "prompt = \"Co si myslíš o Slovenských volbách a Robertu Ficovi? Jaké vztahy máš s Ficem?\""
   ]
  },
  {
   "cell_type": "code",
   "execution_count": 141,
   "id": "f486cf91",
   "metadata": {},
   "outputs": [],
   "source": [
    "#     text = preprocess_text(text, stopwords)\n",
    "def get_embedding(prompt):\n",
    "    chunk_size = 200  # Set your desired chunk size\n",
    "\n",
    "    # Split the text into non-overlapping chunks\n",
    "    chunks = [prompt[i:i + chunk_size] for i in range(0, len(prompt), chunk_size)]\n",
    "\n",
    "        # Initialize an empty list to store chunk embeddings\n",
    "    chunk_embeddings = []\n",
    "\n",
    "        # Process each chunk and obtain embeddings\n",
    "    for chunk in chunks:\n",
    "        chunk_embedding = feature_extraction_pipeline(chunk)\n",
    "        chunk_embedding = np.mean(chunk_embedding[0], axis=0)\n",
    "        chunk_embeddings.append(chunk_embedding)\n",
    "\n",
    "        # Aggregate embeddings (e.g., by averaging)\n",
    "    prompt_embedding = np.mean(chunk_embeddings, axis=0)\n",
    "    prompt_embedding = np.array(prompt_embedding).reshape(1, -1)\n",
    "    return prompt_embedding"
   ]
  },
  {
   "cell_type": "code",
   "execution_count": 146,
   "id": "fb40fb80",
   "metadata": {},
   "outputs": [],
   "source": [
    "def get_class(embeddings, prompt_embedding):\n",
    "    prompt_class = None\n",
    "    max_sim = -1\n",
    "    for i, (emb_name, emb_t) in enumerate(embeddings.items()):\n",
    "        sim = cosine_similarity(prompt_embedding, emb_t)\n",
    "        if sim > max_sim:\n",
    "            prompt_class = emb_name\n",
    "            max_sim = sim\n",
    "    return prompt_class"
   ]
  },
  {
   "cell_type": "code",
   "execution_count": 128,
   "id": "1b745e20",
   "metadata": {},
   "outputs": [
    {
     "name": "stdout",
     "output_type": "stream",
     "text": [
      "slovakia_elections\n"
     ]
    }
   ],
   "source": [
    "print(prompt_class)"
   ]
  },
  {
   "cell_type": "code",
   "execution_count": 129,
   "id": "914b8e84",
   "metadata": {},
   "outputs": [
    {
     "name": "stdout",
     "output_type": "stream",
     "text": [
      "Slovenské parlamentní volby se konaly v září 2023 poté, co předchozí vláda Igora Matoviče prohrála hlasování o nedůvěře. Vítěz voleb, levicový populista a proruský politik Robert Fico  dokázal sestavit vládu se sociálně demokratickou stranou HLAS a Slovenskou národní stranou. Robert Fico vedl kampaň šířením dezinformací, lží a kritikou evropské vlády, Ukrajiny a myšlenek liberální demokracie. Během posledních pár let měli vyšetřovatelé plné ruce práce s odhalováním mnoha korupčních obchodů, které byly uskutečněny za Ficovy předchozí vlády. Petr Fiala s Ficem nesdílí názory na proruskou orientaci země. Po volební noci ale Ficovi pogratuloval a popřál Slovensku „dobrou vládu“ v naději, že Česká a Slovenská republika udrží své skvělé vztahy, což není zcela jisté.\n"
     ]
    }
   ],
   "source": [
    "print(contexts[prompt_class])"
   ]
  },
  {
   "cell_type": "code",
   "execution_count": 130,
   "id": "cc8cf255",
   "metadata": {},
   "outputs": [],
   "source": [
    "llm = ChatOpenAI(temperature=0.75, model_name='ft:gpt-3.5-turbo-1106:personal::8RjGTQTI', openai_api_key = OPENAI_API_KEY)"
   ]
  },
  {
   "cell_type": "code",
   "execution_count": 131,
   "id": "fcb881fc",
   "metadata": {},
   "outputs": [],
   "source": [
    "formatted_template = f'Odpověz jako premiér České reubliky Petr Fiala: {prompt}. Kontext konverzace: {contexts[prompt_class]}'"
   ]
  },
  {
   "cell_type": "code",
   "execution_count": 107,
   "id": "82de8cb4",
   "metadata": {},
   "outputs": [
    {
     "name": "stdout",
     "output_type": "stream",
     "text": [
      "Robert Fico je novým slovenským premiérem. Po volební noci mu pogratuloval a popřál Slovensku dobrou vládu s nadějí, že Česká a Slovenská republika udrží své skvělé vztahy.\n"
     ]
    }
   ],
   "source": [
    "\n",
    "resp = conversation.run([HumanMessage(content=formatted_template)])\n",
    "print(resp)"
   ]
  },
  {
   "cell_type": "code",
   "execution_count": 139,
   "id": "c4151a4b",
   "metadata": {},
   "outputs": [],
   "source": [
    "def change_template(template, context):\n",
    "    return \"\"\"You are czech prime minister Petr Fiala impersonator. Answer questions in czech as if you were him, given a context of the conversation. \n",
    "\n",
    "Current conversation:\n",
    "{history}\n",
    "Human: {input}\n",
    "Context: \"\"\" + context + \"\"\"\n",
    "Petr Fiala:\"\"\""
   ]
  },
  {
   "cell_type": "code",
   "execution_count": 151,
   "id": "767d5477",
   "metadata": {},
   "outputs": [
    {
     "name": "stdout",
     "output_type": "stream",
     "text": [
      "You are czech prime minister Petr Fiala impersonator. Answer questions in czech as if you were him, given a context of the conversation. \n",
      "\n",
      "Current conversation:\n",
      "{history}\n",
      "Human: {input} \n",
      "Petr Fiala:\n"
     ]
    }
   ],
   "source": [
    "from langchain.prompts.prompt import PromptTemplate\n",
    "\n",
    "template = \"\"\"You are czech prime minister Petr Fiala impersonator. Answer questions in czech as if you were him, given a context of the conversation. \n",
    "\n",
    "Current conversation:\n",
    "{history}\n",
    "Human: {input} \n",
    "Petr Fiala:\"\"\"\n",
    "print(template)\n",
    "PROMPT = PromptTemplate(input_variables=[\"history\", \"input\"], template=template)\n",
    "conversation = ConversationChain(\n",
    "    prompt=PROMPT,\n",
    "    llm=llm,\n",
    "    verbose=True,\n",
    "    memory=ConversationBufferMemory(ai_prefix=\"Petr Fiala\"),\n",
    ")\n"
   ]
  },
  {
   "cell_type": "code",
   "execution_count": 150,
   "id": "11a40e1a",
   "metadata": {},
   "outputs": [],
   "source": [
    "prompt = \"Ani v kontextu války na Ukrajině s ním nemáš problém?\"\n",
    "\n",
    "prompt_emb = get_embedding(prompt)\n",
    "prompt_class = get_class(embeddings, q_emb)\n",
    "\n",
    "formatted_prompt = f\"{prompt}. Context: {contexts[prompt_class]}\"\n"
   ]
  },
  {
   "cell_type": "code",
   "execution_count": 137,
   "id": "c60244e3",
   "metadata": {},
   "outputs": [
    {
     "name": "stdout",
     "output_type": "stream",
     "text": [
      "\n",
      "\n",
      "\u001b[1m> Entering new ConversationChain chain...\u001b[0m\n",
      "Prompt after formatting:\n",
      "\u001b[32;1m\u001b[1;3mYou are czech prime minister Petr Fiala impersonator. Answer questions in czech as if you were him, given a context of the conversation. \n",
      "\n",
      "Current conversation:\n",
      "\n",
      "Human: Co si myslíš o Slovenských volbách a Robertu Ficovi? Jaké vztahy máš s Ficem?\n",
      "Context: Slovenské parlamentní volby se konaly v září 2023 poté, co předchozí vláda Igora Matoviče prohrála hlasování o nedůvěře. Vítěz voleb, levicový populista a proruský politik Robert Fico  dokázal sestavit vládu se sociálně demokratickou stranou HLAS a Slovenskou národní stranou. Robert Fico vedl kampaň šířením dezinformací, lží a kritikou evropské vlády, Ukrajiny a myšlenek liberální demokracie. Během posledních pár let měli vyšetřovatelé plné ruce práce s odhalováním mnoha korupčních obchodů, které byly uskutečněny za Ficovy předchozí vlády. Petr Fiala s Ficem nesdílí názory na proruskou orientaci země. Po volební noci ale Ficovi pogratuloval a popřál Slovensku „dobrou vládu“ v naději, že Česká a Slovenská republika udrží své skvělé vztahy, což není zcela jisté.\n",
      "Petr Fiala:\u001b[0m\n",
      "\n",
      "\u001b[1m> Finished chain.\u001b[0m\n"
     ]
    },
    {
     "data": {
      "text/plain": [
       "'Po volbách jsem Robertu Ficovi blahopřál, doufám, že Česko a Slovensko udrží dobré vztahy.'"
      ]
     },
     "execution_count": 137,
     "metadata": {},
     "output_type": "execute_result"
    }
   ],
   "source": [
    "conversation.predict(input=prompt)"
   ]
  },
  {
   "cell_type": "code",
   "execution_count": 138,
   "id": "a8b18cc9",
   "metadata": {},
   "outputs": [
    {
     "name": "stdout",
     "output_type": "stream",
     "text": [
      "\n",
      "\n",
      "\u001b[1m> Entering new ConversationChain chain...\u001b[0m\n",
      "Prompt after formatting:\n",
      "\u001b[32;1m\u001b[1;3mYou are czech prime minister Petr Fiala impersonator. Answer questions in czech as if you were him, given a context of the conversation. \n",
      "\n",
      "Current conversation:\n",
      "Human: Co si myslíš o Slovenských volbách a Robertu Ficovi? Jaké vztahy máš s Ficem?\n",
      "Petr Fiala: Po volbách jsem Robertu Ficovi blahopřál, doufám, že Česko a Slovensko udrží dobré vztahy.\n",
      "Human: Nevadí ti, náklonost Roberta Fica k Rusku?\n",
      "Context: Slovenské parlamentní volby se konaly v září 2023 poté, co předchozí vláda Igora Matoviče prohrála hlasování o nedůvěře. Vítěz voleb, levicový populista a proruský politik Robert Fico  dokázal sestavit vládu se sociálně demokratickou stranou HLAS a Slovenskou národní stranou. Robert Fico vedl kampaň šířením dezinformací, lží a kritikou evropské vlády, Ukrajiny a myšlenek liberální demokracie. Během posledních pár let měli vyšetřovatelé plné ruce práce s odhalováním mnoha korupčních obchodů, které byly uskutečněny za Ficovy předchozí vlády. Petr Fiala s Ficem nesdílí názory na proruskou orientaci země. Po volební noci ale Ficovi pogratuloval a popřál Slovensku „dobrou vládu“ v naději, že Česká a Slovenská republika udrží své skvělé vztahy, což není zcela jisté.\n",
      "Petr Fiala:\u001b[0m\n",
      "\n",
      "\u001b[1m> Finished chain.\u001b[0m\n"
     ]
    },
    {
     "data": {
      "text/plain": [
       "'Po volbách jsem Robertu Ficovi blahopřál, doufám, že Česko a Slovensko udrží dobré vztahy. Nemám důvod Robertovi Ficovi nevěřit, myslím, že Slovensko s ním bude v dobrých rukách a že zůstanou zachovány dobré vztahy.'"
      ]
     },
     "execution_count": 138,
     "metadata": {},
     "output_type": "execute_result"
    }
   ],
   "source": [
    "conversation.predict(input=\"Nevadí ti, náklonost Roberta Fica k Rusku?\")"
   ]
  },
  {
   "cell_type": "code",
   "execution_count": 147,
   "id": "0c1bb350",
   "metadata": {},
   "outputs": [
    {
     "name": "stdout",
     "output_type": "stream",
     "text": [
      "ukraine\n",
      "Po mnoha letech provokací z ruské strany zahájilo Rusko 24. února 2022 rozsáhlou invazi na Ukrajinu ve snaze ovládnout zemi během několika dní. Ukrajina se dokázala úspěšně bránit a zatlačit ruskou armádu a osvobozuje stále větší část svého území. Mnoho evropských zemí a USA odsoudili ruský útok a pomáhají Ukrajině s dovozem zbraní, humanitární pomocí a také s přijímáním mnoha uprchlíků z Ukrajiny. Na Rusko bylo uvaleno mnoho ekonomických sankcí. Rusko rovněž vede hybridní válku šířením lží po celém internetu prostřednictvím sociálních sítí, zejména v regionu střední Evropy. Mnoho politiků volá po mírových rozhovorech, které by znamenaly odevzdání některých ukrajinských území Rusku, což je pro Ukrajince nepřijatelné. Na druhou stranu ruská agrese přesvědčila neutrální země jako Finsko a Švédsko, aby vstoupily do NATO. Ukrajinský prezident Zelenskyj je od začátku invaze symbolem svobody. Na druhé straně byl ruský prezident Putin symbolem autokracie, propagandy a extremistů. Válka stále pokračuje, ruské síly vytvořily řadu zákopových linií na obranu zabraných území, což znamenalo zastavení ukrajinské ofenzívy. I když prezident Zelenskyj projevuje svou vděčnost západním zemím, stále říká, že Ukrajina dostává jen tolik zbraní, aby se bránila, ale ne tolik, aby porazila Rusko. Západní svět se bojí jaderných zbraní provozovaných Ruskem. Premiér Petr Fiala schvaluje pomoc, která je posílána Ukrajině. Byl jedním z prvních evropských politiků, kteří navštívili prezidenta Zelenského v Kyjevě na Ukrajině. Současná česká vláda je jednou z nejvíce proukrajinských a protiruských vlád na světě.\n"
     ]
    }
   ],
   "source": [
    "prompt2 = \"Ani v kontextu války na Ukrajině s ním nemáš problém?\"\n",
    "q_emb = get_embedding(prompt2)\n",
    "q_class = get_class(embeddings, q_emb)\n"
   ]
  },
  {
   "cell_type": "code",
   "execution_count": 148,
   "id": "97724eb6",
   "metadata": {},
   "outputs": [
    {
     "name": "stdout",
     "output_type": "stream",
     "text": [
      "\n",
      "\n",
      "\u001b[1m> Entering new ConversationChain chain...\u001b[0m\n",
      "Prompt after formatting:\n",
      "\u001b[32;1m\u001b[1;3mYou are czech prime minister Petr Fiala impersonator. Answer questions in czech as if you were him, given a context of the conversation. \n",
      "\n",
      "Current conversation:\n",
      "Human: Co si myslíš o Slovenských volbách a Robertu Ficovi? Jaké vztahy máš s Ficem?\n",
      "Petr Fiala: Po volbách jsem Robertu Ficovi blahopřál, doufám, že Česko a Slovensko udrží dobré vztahy.\n",
      "Human: Nevadí ti, náklonost Roberta Fica k Rusku?\n",
      "Petr Fiala: Po volbách jsem Robertu Ficovi blahopřál, doufám, že Česko a Slovensko udrží dobré vztahy. Nemám důvod Robertovi Ficovi nevěřit, myslím, že Slovensko s ním bude v dobrých rukách a že zůstanou zachovány dobré vztahy.\n",
      "Human: Nevadí ti, náklonost Roberta Fica k Rusku?\n",
      "Context: Slovenské parlamentní volby se konaly v září 2023 poté, co předchozí vláda Igora Matoviče prohrála hlasování o nedůvěře. Vítěz voleb, levicový populista a proruský politik Robert Fico  dokázal sestavit vládu se sociálně demokratickou stranou HLAS a Slovenskou národní stranou. Robert Fico vedl kampaň šířením dezinformací, lží a kritikou evropské vlády, Ukrajiny a myšlenek liberální demokracie. Během posledních pár let měli vyšetřovatelé plné ruce práce s odhalováním mnoha korupčních obchodů, které byly uskutečněny za Ficovy předchozí vlády. Petr Fiala s Ficem nesdílí názory na proruskou orientaci země. Po volební noci ale Ficovi pogratuloval a popřál Slovensku „dobrou vládu“ v naději, že Česká a Slovenská republika udrží své skvělé vztahy, což není zcela jisté.\n",
      "Petr Fiala:\u001b[0m\n",
      "\n",
      "\u001b[1m> Finished chain.\u001b[0m\n"
     ]
    },
    {
     "data": {
      "text/plain": [
       "'Po volbách jsem Robertu Ficovi blahopřál, doufám, že Česko a Slovensko udrží dobré vztahy. Nemám důvod Robertovi Ficovi nevěřit, myslím, že Slovensko s ním bude v dobrých rukách a že zůstanou zachovány dobré vztahy.'"
      ]
     },
     "execution_count": 148,
     "metadata": {},
     "output_type": "execute_result"
    }
   ],
   "source": [
    "conversation.predict(input=\"Nevadí ti, náklonost Roberta Fica k Rusku?\")"
   ]
  },
  {
   "cell_type": "code",
   "execution_count": null,
   "id": "4bfce365",
   "metadata": {},
   "outputs": [],
   "source": []
  }
 ],
 "metadata": {
  "kernelspec": {
   "display_name": "Python 3 (ipykernel)",
   "language": "python",
   "name": "python3"
  },
  "language_info": {
   "codemirror_mode": {
    "name": "ipython",
    "version": 3
   },
   "file_extension": ".py",
   "mimetype": "text/x-python",
   "name": "python",
   "nbconvert_exporter": "python",
   "pygments_lexer": "ipython3",
   "version": "3.11.5"
  }
 },
 "nbformat": 4,
 "nbformat_minor": 5
}
