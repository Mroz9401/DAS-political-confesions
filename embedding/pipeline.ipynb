{
 "cells": [
  {
   "cell_type": "code",
   "execution_count": null,
   "id": "9c2f718c",
   "metadata": {},
   "outputs": [],
   "source": [
    "from langchain.chat_models import ChatOpenAI\n",
    "from langchain.schema import HumanMessage\n",
    "from langchain.chains import ConversationChain\n",
    "from langchain.memory import ConversationBufferMemory\n",
    "import os\n",
    "from sentence_transformers import SentenceTransformer\n",
    "import torch\n",
    "from transformers import AutoTokenizer, AutoModelForMaskedLM, pipeline, AutoModel\n",
    "from sklearn.metrics.pairwise import cosine_similarity\n",
    "import math\n",
    "import json\n",
    "import numpy as np\n",
    "import pickle\n",
    "import nltk\n",
    "from nltk.corpus import stopwords\n",
    "from deep_translator import GoogleTranslator"
   ]
  },
  {
   "cell_type": "code",
   "execution_count": null,
   "id": "0e139ff5",
   "metadata": {},
   "outputs": [],
   "source": [
    "with open('/home/martin/openaiKey.txt', 'r') as file:\n",
    "    key_content = file.read()\n",
    "\n",
    "OPENAI_API_KEY = str(key_content.strip())"
   ]
  },
  {
   "cell_type": "code",
   "execution_count": null,
   "id": "5696763b",
   "metadata": {},
   "outputs": [],
   "source": [
    "with open('contexts_embeddings.pkl', 'rb') as f:\n",
    "    embeddings = pickle.load(f)\n",
    "    \n",
    "with open('contexts.pkl', 'rb') as f:\n",
    "    contexts = pickle.load(f)"
   ]
  },
  {
   "cell_type": "code",
   "execution_count": null,
   "id": "7908da02",
   "metadata": {},
   "outputs": [],
   "source": [
    "tokenizer = AutoTokenizer.from_pretrained('sentence-transformers/all-MiniLM-L6-v2')\n",
    "model = AutoModel.from_pretrained('sentence-transformers/all-MiniLM-L6-v2')\n",
    "\n",
    "feature_extraction_pipeline = pipeline('feature-extraction', model=model, tokenizer=tokenizer)  # 'device=0' for GPU, remove for CPU"
   ]
  },
  {
   "cell_type": "code",
   "execution_count": null,
   "id": "377a684e",
   "metadata": {},
   "outputs": [],
   "source": [
    "# nltk.download('stopwords')\n",
    "# stop_words = set(stopwords.words('english'))\n",
    "# def preprocess(sentence):\n",
    "    \n",
    "#     #SOME OTHER PREPROCSESING\n",
    "    \n",
    "#     #REMOVE STOPWORDS\n",
    "#     filtered_tokens = [word for word in sentence.split() if word.lower() not in stop_words]\n",
    "#     return ' '.join(filtered_tokens)\n",
    "\n",
    "\n",
    "#PREPROCESSING FOR CONTEXT AND QUESTION EMBEDDINGS SHOULD PROBABLY BE THE SAME  "
   ]
  },
  {
   "cell_type": "code",
   "execution_count": null,
   "id": "cd18d32a",
   "metadata": {},
   "outputs": [],
   "source": [
    "#Given a prompt in czech, translate into english and embed using a previously defined pipeline\n",
    "def get_embedding(prompt):\n",
    "    chunk_size = 200 \n",
    "    \n",
    "    #Tranlsate\n",
    "    prompt = GoogleTranslator(source='cs', target='en').translate(prompt)\n",
    "    # Split the text into non-overlapping chunks\n",
    "    chunks = [prompt[i:i + chunk_size] for i in range(0, len(prompt), chunk_size)]\n",
    "#     print(prompt)\n",
    "    # Initialize an empty list to store chunk embeddings\n",
    "    chunk_embeddings = []\n",
    "\n",
    "    for chunk in chunks:\n",
    "        chunk_embedding = feature_extraction_pipeline(chunk)\n",
    "        chunk_embedding = np.mean(chunk_embedding[0], axis=0)\n",
    "        chunk_embeddings.append(chunk_embedding)\n",
    "\n",
    "    prompt_embedding = np.mean(chunk_embeddings, axis=0)\n",
    "    prompt_embedding = np.array(prompt_embedding).reshape(1, -1)\n",
    "    return prompt_embedding"
   ]
  },
  {
   "cell_type": "code",
   "execution_count": null,
   "id": "039f2df4",
   "metadata": {},
   "outputs": [],
   "source": [
    "#Give contexts and prompt embeddings, find most appropriate context for the prompt.\n",
    "def get_class(embeddings, prompt_embedding):\n",
    "    prompt_class = None\n",
    "    max_sim = -1\n",
    "    for i, (emb_name, emb_t) in enumerate(embeddings.items()):\n",
    "        sim = cosine_similarity(prompt_embedding, emb_t)\n",
    "        print(sim)\n",
    "        if sim > max_sim:\n",
    "            prompt_class = emb_name\n",
    "            max_sim = sim\n",
    "    return prompt_class"
   ]
  },
  {
   "cell_type": "code",
   "execution_count": null,
   "id": "5b3da4d4",
   "metadata": {},
   "outputs": [],
   "source": [
    "llm = ChatOpenAI(temperature=0.75, model_name='ft:gpt-3.5-turbo-1106:personal::8RjGTQTI', openai_api_key = OPENAI_API_KEY)"
   ]
  },
  {
   "cell_type": "code",
   "execution_count": null,
   "id": "8d7da819",
   "metadata": {},
   "outputs": [],
   "source": [
    "from langchain.prompts.prompt import PromptTemplate\n",
    "\n",
    "#template of a prompt\n",
    "template = \"\"\"Napodobuješ Českého premiéra Petra Fialu. Odpovídej na prompty, jako by si byl on. Odpovídej česky a v několika větách. \n",
    "\n",
    "Current conversation:\n",
    "{history}\n",
    "Human: {input} \n",
    "Petr Fiala:\"\"\"\n",
    "print(template)\n",
    "\n",
    "PROMPT = PromptTemplate(input_variables=[\"history\", \"input\"], template=template)\n",
    "conversation = ConversationChain(\n",
    "    prompt=PROMPT,\n",
    "    llm=llm,\n",
    "    verbose=True,\n",
    "    memory=ConversationBufferMemory(ai_prefix=\"Petr Fiala\"),\n",
    ")\n"
   ]
  },
  {
   "cell_type": "code",
   "execution_count": null,
   "id": "877cf273",
   "metadata": {},
   "outputs": [],
   "source": [
    "#Find proper context and add it to the prompt.\n",
    "prompt = \"Co si myslíš o Robertu Ficovi?\"\n",
    "prompt_emb = get_embedding(prompt)\n",
    "prompt_class = get_class(embeddings, prompt_emb)\n",
    "formatted_prompt = f\"{prompt}. Context: {contexts[prompt_class]}\""
   ]
  },
  {
   "cell_type": "code",
   "execution_count": null,
   "id": "8af77c9d",
   "metadata": {},
   "outputs": [],
   "source": [
    "#run the prompt into the model\n",
    "conversation.predict(input=formatted_prompt)"
   ]
  },
  {
   "cell_type": "code",
   "execution_count": null,
   "id": "25297e73",
   "metadata": {},
   "outputs": [],
   "source": [
    "prompt2 = \"Co si myslíš o Robertu Ficovi?\"\n",
    "\n",
    "#CO TED S KONTEXTEM? CO DAT JAKO INPUT? PRVNI KONTEXT JE ULOZENY V HISTORII, \n",
    "#TAKZE MOZNA VYBIRAT JEN ZA OSTATNICH + THRESHOLD??\n",
    "\n",
    "# prompt_emb = get_embedding(prompt)\n",
    "# prompt_class = get_class(embeddings, prompt_emb)\n",
    "# formatted_prompt = f\"{prompt}. Context: {contexts[prompt_class]}\""
   ]
  }
 ],
 "metadata": {
  "kernelspec": {
   "display_name": "Python 3 (ipykernel)",
   "language": "python",
   "name": "python3"
  },
  "language_info": {
   "codemirror_mode": {
    "name": "ipython",
    "version": 3
   },
   "file_extension": ".py",
   "mimetype": "text/x-python",
   "name": "python",
   "nbconvert_exporter": "python",
   "pygments_lexer": "ipython3",
   "version": "3.11.5"
  }
 },
 "nbformat": 4,
 "nbformat_minor": 5
}
