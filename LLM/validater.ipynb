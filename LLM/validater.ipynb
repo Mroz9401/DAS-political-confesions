{
 "cells": [
  {
   "cell_type": "code",
   "execution_count": null,
   "id": "8dbf425d-dea4-4f92-8952-464d1ac7025b",
   "metadata": {},
   "outputs": [],
   "source": [
    "from sklearn.metrics.pairwise import cosine_similarity\n",
    "from sklearn.feature_extraction.text import TfidfVectorizer\n",
    "\n",
    "# Create a TF-IDF vectorizer\n",
    "vectorizer = TfidfVectorizer()\n",
    "\n",
    "# Function to compute the cosine similarity between two sentences\n",
    "def compute_similarity(sent1, sent2):\n",
    "    tfidf_matrix = vectorizer.fit_transform([sent1, sent2])\n",
    "    return cosine_similarity(tfidf_matrix[0:1], tfidf_matrix[1:2])[0][0]\n",
    "\n",
    "# Compare the sentences and determine if they match in meaning based on a threshold\n",
    "threshold = 0.8\n",
    "matches = []\n",
    "for index, row in data.iterrows():\n",
    "    similarity = compute_similarity(row[\"model output\"], row[\"valid output\"])\n",
    "    matches.append(similarity >= threshold)\n",
    "\n",
    "# Count the number of matching and non-matching phrases\n",
    "num_matches = sum(matches)\n",
    "num_non_matches = len(matches) - num_matches\n",
    "\n",
    "num_matches, num_non_matches\n"
   ]
  },
  {
   "cell_type": "code",
   "execution_count": null,
   "id": "236af14a-d4a3-4e0a-8782-293bd626c04c",
   "metadata": {},
   "outputs": [],
   "source": [
    "from collections import Counter\n",
    "\n",
    "def compare_sentences_heuristic(sentence1, sentence2):\n",
    "    \"\"\"Compare two sentences based on word overlap.\"\"\"\n",
    "    # Tokenize and count words in each sentence\n",
    "    words1 = Counter(sentence1.lower().split())\n",
    "    words2 = Counter(sentence2.lower().split())\n",
    "    \n",
    "    # Find common words between the two sentences\n",
    "    common_words = words1 & words2\n",
    "    \n",
    "    # Calculate the ratio of common words to total words in each sentence\n",
    "    ratio1 = sum(common_words.values()) / sum(words1.values())\n",
    "    ratio2 = sum(common_words.values()) / sum(words2.values())\n",
    "    \n",
    "    # If both ratios are above a certain threshold, consider the sentences similar\n",
    "    threshold = 0.6\n",
    "    return ratio1 > threshold and ratio2 > threshold\n",
    "\n",
    "# Apply the heuristic comparison to each row in the data\n",
    "data['consistent'] = data.apply(lambda row: compare_sentences_heuristic(row['model output'], row['valid output']), axis=1)\n",
    "\n",
    "# Count the number of consistent and inconsistent rows\n",
    "consistent_count = data['consistent'].sum()\n",
    "inconsistent_count = len(data) - consistent_count\n",
    "\n",
    "consistent_count, inconsistent_count\n"
   ]
  }
 ],
 "metadata": {
  "kernelspec": {
   "display_name": "Python 3 (ipykernel)",
   "language": "python",
   "name": "python3"
  },
  "language_info": {
   "codemirror_mode": {
    "name": "ipython",
    "version": 3
   },
   "file_extension": ".py",
   "mimetype": "text/x-python",
   "name": "python",
   "nbconvert_exporter": "python",
   "pygments_lexer": "ipython3",
   "version": "3.10.11"
  }
 },
 "nbformat": 4,
 "nbformat_minor": 5
}
